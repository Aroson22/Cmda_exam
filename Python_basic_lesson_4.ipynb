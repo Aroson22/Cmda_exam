{
  "nbformat": 4,
  "nbformat_minor": 0,
  "metadata": {
    "colab": {
      "provenance": [],
      "authorship_tag": "ABX9TyMCeCdwfxwudb5WEkU7iuPU",
      "include_colab_link": true
    },
    "kernelspec": {
      "name": "python3",
      "display_name": "Python 3"
    },
    "language_info": {
      "name": "python"
    }
  },
  "cells": [
    {
      "cell_type": "markdown",
      "metadata": {
        "id": "view-in-github",
        "colab_type": "text"
      },
      "source": [
        "<a href=\"https://colab.research.google.com/github/Aroson22/Cmda_exam/blob/main/Python_basic_lesson_4.ipynb\" target=\"_parent\"><img src=\"https://colab.research.google.com/assets/colab-badge.svg\" alt=\"Open In Colab\"/></a>"
      ]
    },
    {
      "cell_type": "markdown",
      "source": [
        "# Python basic lesson 4"
      ],
      "metadata": {
        "id": "Nxits0LIO5Tr"
      }
    },
    {
      "cell_type": "markdown",
      "source": [
        "From last time:"
      ],
      "metadata": {
        "id": "6EhKElUBF0X3"
      }
    },
    {
      "cell_type": "code",
      "execution_count": 2,
      "metadata": {
        "colab": {
          "base_uri": "https://localhost:8080/"
        },
        "id": "TQCcUY5AFyO3",
        "outputId": "36e3ce10-7577-42be-bf41-2ede4bd4aa56"
      },
      "outputs": [
        {
          "output_type": "stream",
          "name": "stdout",
          "text": [
            "pure.-python: 4.21593713760376\n",
            "numpy: 0.06381750106811523\n"
          ]
        }
      ],
      "source": [
        "import time\n",
        "import numpy as np\n",
        "\n",
        "N = 10000000\n",
        "\n",
        "start_time = time.time()\n",
        "\n",
        "l = []\n",
        "\n",
        "for i in range(N):\n",
        "  l.append(i**2)\n",
        "\n",
        "elapsed_time = time.time() - start_time\n",
        "print(\"pure.-python:\", elapsed_time)\n",
        "\n",
        "start_time = time.time()\n",
        "a = np.arange(N)**2\n",
        "elapsed_time = time.time() - start_time\n",
        "\n",
        "print(\"numpy:\", elapsed_time)"
      ]
    },
    {
      "cell_type": "markdown",
      "source": [
        "Il vantaggio sistematico degli array numpy è che anche se ho una limitatezza su ciò che posso metterci dentre: deve essere tutto dello stesso tipo. Però specificando il tipo so già a priori quanta memoria occupano e quindi posso analizzare la memoria a blocchi di bit ( ex float: 8 bit, guardo i primi 8 e poi i secondi 8 e così via) risparmio un tempo considerevole!!!"
      ],
      "metadata": {
        "id": "MzUpcQjyJEjR"
      }
    },
    {
      "cell_type": "code",
      "source": [
        "#address of the object\n",
        "id(a)\n"
      ],
      "metadata": {
        "colab": {
          "base_uri": "https://localhost:8080/"
        },
        "id": "ORqHonU3JXr_",
        "outputId": "f65aa698-8f6c-48fb-8f73-bde01e67d588"
      },
      "execution_count": 3,
      "outputs": [
        {
          "output_type": "execute_result",
          "data": {
            "text/plain": [
              "136912721287600"
            ]
          },
          "metadata": {},
          "execution_count": 3
        }
      ]
    },
    {
      "cell_type": "markdown",
      "source": [
        "# Broadcasting\n",
        "https://numpy.org/doc/stable/user/basics.broadcasting.html"
      ],
      "metadata": {
        "id": "wfZlLdLwJuf0"
      }
    },
    {
      "cell_type": "code",
      "source": [
        "a = np.ones((3,2))\n",
        "a\n"
      ],
      "metadata": {
        "colab": {
          "base_uri": "https://localhost:8080/"
        },
        "id": "UigBz0ZQJ61A",
        "outputId": "dd5700a5-4319-4b81-e8ba-bb557069dcbd"
      },
      "execution_count": 10,
      "outputs": [
        {
          "output_type": "execute_result",
          "data": {
            "text/plain": [
              "array([[1., 1.],\n",
              "       [1., 1.],\n",
              "       [1., 1.]])"
            ]
          },
          "metadata": {},
          "execution_count": 10
        }
      ]
    },
    {
      "cell_type": "code",
      "source": [
        "b= a*2  # moltiplicazione fra array e scalari\n",
        "b"
      ],
      "metadata": {
        "colab": {
          "base_uri": "https://localhost:8080/"
        },
        "id": "EIRjDuLuKUuY",
        "outputId": "7e831c43-4cac-4ed7-ed2b-a5aa0a66bc69"
      },
      "execution_count": 9,
      "outputs": [
        {
          "output_type": "execute_result",
          "data": {
            "text/plain": [
              "array([[2., 2.],\n",
              "       [2., 2.],\n",
              "       [2., 2.]])"
            ]
          },
          "metadata": {},
          "execution_count": 9
        }
      ]
    },
    {
      "cell_type": "code",
      "source": [
        "c = np.array([1.,2.,3.])\n",
        "c"
      ],
      "metadata": {
        "colab": {
          "base_uri": "https://localhost:8080/"
        },
        "id": "_hz3kGykKcuR",
        "outputId": "e8c0009e-e4fb-4274-b2f6-4e08fbd7c7a9"
      },
      "execution_count": 8,
      "outputs": [
        {
          "output_type": "execute_result",
          "data": {
            "text/plain": [
              "array([1., 2., 3.])"
            ]
          },
          "metadata": {},
          "execution_count": 8
        }
      ]
    },
    {
      "cell_type": "code",
      "source": [
        "a*c"
      ],
      "metadata": {
        "colab": {
          "base_uri": "https://localhost:8080/",
          "height": 175
        },
        "id": "HRZ85C9fKhNh",
        "outputId": "1bc41e66-7e2a-44eb-f5ed-c688af8fabdb"
      },
      "execution_count": 11,
      "outputs": [
        {
          "output_type": "error",
          "ename": "ValueError",
          "evalue": "ignored",
          "traceback": [
            "\u001b[0;31m---------------------------------------------------------------------------\u001b[0m",
            "\u001b[0;31mValueError\u001b[0m                                Traceback (most recent call last)",
            "\u001b[0;32m<ipython-input-11-531f218278af>\u001b[0m in \u001b[0;36m<cell line: 1>\u001b[0;34m()\u001b[0m\n\u001b[0;32m----> 1\u001b[0;31m \u001b[0ma\u001b[0m\u001b[0;34m*\u001b[0m\u001b[0mc\u001b[0m\u001b[0;34m\u001b[0m\u001b[0;34m\u001b[0m\u001b[0m\n\u001b[0m",
            "\u001b[0;31mValueError\u001b[0m: operands could not be broadcast together with shapes (3,2) (3,) "
          ]
        }
      ]
    },
    {
      "cell_type": "code",
      "source": [
        "c*a"
      ],
      "metadata": {
        "colab": {
          "base_uri": "https://localhost:8080/",
          "height": 175
        },
        "id": "F6WazzkWKhD3",
        "outputId": "a8507b82-594d-4c10-85ef-5d06a9cfe7bf"
      },
      "execution_count": 12,
      "outputs": [
        {
          "output_type": "error",
          "ename": "ValueError",
          "evalue": "ignored",
          "traceback": [
            "\u001b[0;31m---------------------------------------------------------------------------\u001b[0m",
            "\u001b[0;31mValueError\u001b[0m                                Traceback (most recent call last)",
            "\u001b[0;32m<ipython-input-12-df8ed3463976>\u001b[0m in \u001b[0;36m<cell line: 1>\u001b[0;34m()\u001b[0m\n\u001b[0;32m----> 1\u001b[0;31m \u001b[0mc\u001b[0m\u001b[0;34m*\u001b[0m\u001b[0ma\u001b[0m\u001b[0;34m\u001b[0m\u001b[0;34m\u001b[0m\u001b[0m\n\u001b[0m",
            "\u001b[0;31mValueError\u001b[0m: operands could not be broadcast together with shapes (3,) (3,2) "
          ]
        }
      ]
    },
    {
      "cell_type": "code",
      "source": [
        "d = np.array([1.,2.])\n",
        "d"
      ],
      "metadata": {
        "colab": {
          "base_uri": "https://localhost:8080/"
        },
        "id": "zUjEuYuQKgzz",
        "outputId": "44d58a95-5820-4de0-dc63-437a31c37341"
      },
      "execution_count": 14,
      "outputs": [
        {
          "output_type": "execute_result",
          "data": {
            "text/plain": [
              "array([1., 2.])"
            ]
          },
          "metadata": {},
          "execution_count": 14
        }
      ]
    },
    {
      "cell_type": "code",
      "source": [
        "a*d"
      ],
      "metadata": {
        "colab": {
          "base_uri": "https://localhost:8080/"
        },
        "id": "-ZGCTo-cKtrq",
        "outputId": "9cacd4bd-a03a-415d-9eeb-adb787a5a9b7"
      },
      "execution_count": 15,
      "outputs": [
        {
          "output_type": "execute_result",
          "data": {
            "text/plain": [
              "array([[1., 2.],\n",
              "       [1., 2.],\n",
              "       [1., 2.]])"
            ]
          },
          "metadata": {},
          "execution_count": 15
        }
      ]
    },
    {
      "cell_type": "code",
      "source": [
        "d*a"
      ],
      "metadata": {
        "colab": {
          "base_uri": "https://localhost:8080/"
        },
        "id": "PN4CcHgQKwG8",
        "outputId": "ffd49de2-8202-4a90-d45b-630a0c608723"
      },
      "execution_count": 16,
      "outputs": [
        {
          "output_type": "execute_result",
          "data": {
            "text/plain": [
              "array([[1., 2.],\n",
              "       [1., 2.],\n",
              "       [1., 2.]])"
            ]
          },
          "metadata": {},
          "execution_count": 16
        }
      ]
    },
    {
      "cell_type": "markdown",
      "source": [
        "il Broadcast sono operazioni molto potenti che posso fare sugli array, sotto specifiche condizioni, numpy è in grado di capire la cosa più smart da fare"
      ],
      "metadata": {
        "id": "R7UdQrsGJy_h"
      }
    },
    {
      "cell_type": "code",
      "source": [
        "a.T #.T trasposto della matrice"
      ],
      "metadata": {
        "colab": {
          "base_uri": "https://localhost:8080/"
        },
        "id": "WkSGw5SJLfbh",
        "outputId": "15c86ae1-0571-4469-b5e5-bc0437bfb7f2"
      },
      "execution_count": 18,
      "outputs": [
        {
          "output_type": "execute_result",
          "data": {
            "text/plain": [
              "array([[1., 1., 1.],\n",
              "       [1., 1., 1.]])"
            ]
          },
          "metadata": {},
          "execution_count": 18
        }
      ]
    },
    {
      "cell_type": "code",
      "source": [
        "(a*d).T"
      ],
      "metadata": {
        "colab": {
          "base_uri": "https://localhost:8080/"
        },
        "id": "p4hAwEH6LsEF",
        "outputId": "6a6a4d0d-22e9-4d50-8b33-eeb125460a88"
      },
      "execution_count": 21,
      "outputs": [
        {
          "output_type": "execute_result",
          "data": {
            "text/plain": [
              "array([[1., 1., 1.],\n",
              "       [2., 2., 2.]])"
            ]
          },
          "metadata": {},
          "execution_count": 21
        }
      ]
    },
    {
      "cell_type": "code",
      "source": [
        "a.T *c"
      ],
      "metadata": {
        "colab": {
          "base_uri": "https://localhost:8080/"
        },
        "id": "h-Y5gcEoLXqw",
        "outputId": "79da1d10-7e94-4be1-e9c6-7da8fe3204a9"
      },
      "execution_count": 17,
      "outputs": [
        {
          "output_type": "execute_result",
          "data": {
            "text/plain": [
              "array([[1., 2., 3.],\n",
              "       [1., 2., 3.]])"
            ]
          },
          "metadata": {},
          "execution_count": 17
        }
      ]
    },
    {
      "cell_type": "markdown",
      "source": [
        "Ora funziona, ma ho qualcosa di diverso rispetto a quello da cui sono partito"
      ],
      "metadata": {
        "id": "_0FifvcwLaMn"
      }
    },
    {
      "cell_type": "code",
      "source": [
        "a = np.random.normal(size =( 10 , 5)) # estrae da un gaussiana a media nulla e varianza unitaria una matrice--> tramite size 10*5\n",
        "a"
      ],
      "metadata": {
        "colab": {
          "base_uri": "https://localhost:8080/"
        },
        "id": "PoEkIRYrMEv8",
        "outputId": "6ceaf6dc-8123-4c47-beac-2e0f9715a5e5"
      },
      "execution_count": 24,
      "outputs": [
        {
          "output_type": "execute_result",
          "data": {
            "text/plain": [
              "array([[ 0.40561688,  1.32502588,  1.91825798,  0.53252049,  0.16572686],\n",
              "       [ 0.59401739,  0.29565698, -0.0606578 ,  1.07049048,  1.72053898],\n",
              "       [ 0.10027021, -0.31211207, -0.26864104, -0.09825474, -0.20717112],\n",
              "       [-0.18416497,  0.01470462,  0.0176534 ,  0.9454242 , -0.72567328],\n",
              "       [ 0.09290552,  1.0687947 , -0.59023221, -0.52755397,  0.61545332],\n",
              "       [-0.14115054,  1.27203286, -0.86748726,  0.99409082, -0.1632648 ],\n",
              "       [ 2.21538086, -1.55064331,  1.56548119, -0.95930615, -0.2803212 ],\n",
              "       [ 0.37601995,  0.08236184, -0.79098822,  0.64497141, -1.48059038],\n",
              "       [-0.2662853 ,  1.00971699, -0.95243339, -1.23715527,  0.32080553],\n",
              "       [ 1.80248959,  0.84569312, -0.18996985,  1.83594553, -1.1127478 ]])"
            ]
          },
          "metadata": {},
          "execution_count": 24
        }
      ]
    },
    {
      "cell_type": "markdown",
      "source": [
        "---\n",
        "***Power method:***"
      ],
      "metadata": {
        "id": "LxvyH4zxNmQu"
      }
    },
    {
      "cell_type": "code",
      "source": [
        "np.power(a,a) # array 1 elevato all'array 2"
      ],
      "metadata": {
        "colab": {
          "base_uri": "https://localhost:8080/"
        },
        "id": "PqxQuArrMq9T",
        "outputId": "fc7f7ec1-4c08-4b80-f3ed-6be2228744e8"
      },
      "execution_count": 26,
      "outputs": [
        {
          "output_type": "stream",
          "name": "stderr",
          "text": [
            "<ipython-input-26-76baf79b9599>:1: RuntimeWarning: invalid value encountered in power\n",
            "  np.power(a,a)\n"
          ]
        },
        {
          "output_type": "execute_result",
          "data": {
            "text/plain": [
              "array([[0.69349805, 1.45194592, 3.48890093, 0.71493817, 0.74239055],\n",
              "       [0.73389304, 0.69748491,        nan, 1.0756429 , 2.54372401],\n",
              "       [0.79404899,        nan,        nan,        nan,        nan],\n",
              "       [       nan, 0.93983822, 0.93121629, 0.94832436,        nan],\n",
              "       [0.80190951, 1.07369781,        nan,        nan, 0.74175321],\n",
              "       [       nan, 1.35807987,        nan, 0.99412564,        nan],\n",
              "       [5.82505153,        nan, 2.01705413,        nan,        nan],\n",
              "       [0.69226252, 0.81413646,        nan, 0.7536315 ,        nan],\n",
              "       [       nan, 1.00981187,        nan,        nan, 0.69438392],\n",
              "       [2.89206466, 0.86784939,        nan, 3.05092975,        nan]])"
            ]
          },
          "metadata": {},
          "execution_count": 26
        }
      ]
    },
    {
      "cell_type": "code",
      "source": [
        "a_1 = np.array([1.,2.,3.,4.,5.])\n",
        "b_1 = np.array([1.,3.,2.,6.,10.])\n",
        "np.power(a_1,b_1)"
      ],
      "metadata": {
        "colab": {
          "base_uri": "https://localhost:8080/"
        },
        "id": "HqfWodOdNMOq",
        "outputId": "b666f8f5-42f8-439f-eee5-efc8e8017a1a"
      },
      "execution_count": 27,
      "outputs": [
        {
          "output_type": "execute_result",
          "data": {
            "text/plain": [
              "array([1.000000e+00, 8.000000e+00, 9.000000e+00, 4.096000e+03,\n",
              "       9.765625e+06])"
            ]
          },
          "metadata": {},
          "execution_count": 27
        }
      ]
    },
    {
      "cell_type": "markdown",
      "source": [
        "---"
      ],
      "metadata": {
        "id": "BJOliyOuNw4Z"
      }
    },
    {
      "cell_type": "code",
      "source": [
        "np.mean(a) # media dei valori di a (matrice e/o vettore)"
      ],
      "metadata": {
        "colab": {
          "base_uri": "https://localhost:8080/"
        },
        "id": "vkq9usrnNuZ0",
        "outputId": "446f42ac-c6f3-4e34-d97b-232c61da4b87"
      },
      "execution_count": 28,
      "outputs": [
        {
          "output_type": "execute_result",
          "data": {
            "text/plain": [
              "0.21762485805088236"
            ]
          },
          "metadata": {},
          "execution_count": 28
        }
      ]
    },
    {
      "cell_type": "markdown",
      "source": [
        "---"
      ],
      "metadata": {
        "id": "t9hIpA_pOeXW"
      }
    },
    {
      "cell_type": "code",
      "source": [
        "np.mean(a, axis = 0) # media delle colonne"
      ],
      "metadata": {
        "colab": {
          "base_uri": "https://localhost:8080/"
        },
        "id": "2fLRk-jcN3zB",
        "outputId": "87cfee49-a18f-434c-9a5f-2417be605e6b"
      },
      "execution_count": 30,
      "outputs": [
        {
          "output_type": "execute_result",
          "data": {
            "text/plain": [
              "array([ 0.49950996,  0.40512316, -0.02190172,  0.32011728, -0.11472439])"
            ]
          },
          "metadata": {},
          "execution_count": 30
        }
      ]
    },
    {
      "cell_type": "code",
      "source": [
        "np.mean(a,axis = 1) # media delle righe"
      ],
      "metadata": {
        "colab": {
          "base_uri": "https://localhost:8080/"
        },
        "id": "MZCqkwKQOHBo",
        "outputId": "8e063ff9-27f1-44a1-f59b-bf79b7ed8558"
      },
      "execution_count": 31,
      "outputs": [
        {
          "output_type": "execute_result",
          "data": {
            "text/plain": [
              "array([ 0.86942962,  0.72400921, -0.15718175,  0.01358879,  0.13187347,\n",
              "        0.21884422,  0.19811828, -0.23364508, -0.22507029,  0.63628212])"
            ]
          },
          "metadata": {},
          "execution_count": 31
        }
      ]
    },
    {
      "cell_type": "code",
      "source": [
        "np.mean(a,axis = 2) # ERROR!!!"
      ],
      "metadata": {
        "id": "N--ZHvhrOVoO"
      },
      "execution_count": null,
      "outputs": []
    },
    {
      "cell_type": "markdown",
      "source": [
        "---"
      ],
      "metadata": {
        "id": "GGtUA6GFOgMK"
      }
    },
    {
      "cell_type": "code",
      "source": [
        "np.std(a) # standard deviation dei valori di a (matrice e/o vettore)"
      ],
      "metadata": {
        "colab": {
          "base_uri": "https://localhost:8080/"
        },
        "id": "rKVFgPA5OhOg",
        "outputId": "305fd2c7-dedb-4e17-fefb-249a1712a022"
      },
      "execution_count": 33,
      "outputs": [
        {
          "output_type": "execute_result",
          "data": {
            "text/plain": [
              "0.9135223737947504"
            ]
          },
          "metadata": {},
          "execution_count": 33
        }
      ]
    },
    {
      "cell_type": "markdown",
      "source": [
        "***Basic indexing:***"
      ],
      "metadata": {
        "id": "-1uolVaDPLd5"
      }
    },
    {
      "cell_type": "code",
      "source": [
        "a[0,0] # prim riga prima colonna"
      ],
      "metadata": {
        "colab": {
          "base_uri": "https://localhost:8080/"
        },
        "id": "eHmRgpE6PPFz",
        "outputId": "80d49f13-511c-4dd6-cb0d-5d21b1078b39"
      },
      "execution_count": 35,
      "outputs": [
        {
          "output_type": "execute_result",
          "data": {
            "text/plain": [
              "0.4056168823419888"
            ]
          },
          "metadata": {},
          "execution_count": 35
        }
      ]
    },
    {
      "cell_type": "code",
      "source": [
        "a[0,1] #prima riga seconda colonna"
      ],
      "metadata": {
        "colab": {
          "base_uri": "https://localhost:8080/"
        },
        "id": "I4BUnRglPah5",
        "outputId": "d476987d-1254-4aa7-9157-41d97d7e64aa"
      },
      "execution_count": 36,
      "outputs": [
        {
          "output_type": "execute_result",
          "data": {
            "text/plain": [
              "1.3250258776865265"
            ]
          },
          "metadata": {},
          "execution_count": 36
        }
      ]
    },
    {
      "cell_type": "code",
      "source": [
        "a[2] #terza riga"
      ],
      "metadata": {
        "colab": {
          "base_uri": "https://localhost:8080/"
        },
        "id": "baieA95YPoc4",
        "outputId": "c511254e-febf-41ef-c09d-287545f72809"
      },
      "execution_count": 37,
      "outputs": [
        {
          "output_type": "execute_result",
          "data": {
            "text/plain": [
              "array([ 0.10027021, -0.31211207, -0.26864104, -0.09825474, -0.20717112])"
            ]
          },
          "metadata": {},
          "execution_count": 37
        }
      ]
    },
    {
      "cell_type": "code",
      "source": [
        "a[:,3] #quarta colonna"
      ],
      "metadata": {
        "colab": {
          "base_uri": "https://localhost:8080/"
        },
        "id": "fu8joZ5wPvnH",
        "outputId": "bbc607c5-e694-455a-cb27-12ae2fffbe50"
      },
      "execution_count": 38,
      "outputs": [
        {
          "output_type": "execute_result",
          "data": {
            "text/plain": [
              "array([ 0.53252049,  1.07049048, -0.09825474,  0.9454242 , -0.52755397,\n",
              "        0.99409082, -0.95930615,  0.64497141, -1.23715527,  1.83594553])"
            ]
          },
          "metadata": {},
          "execution_count": 38
        }
      ]
    },
    {
      "cell_type": "code",
      "source": [
        "a = np.arange(16)\n",
        "a"
      ],
      "metadata": {
        "colab": {
          "base_uri": "https://localhost:8080/"
        },
        "id": "WEBb-2YCQx5S",
        "outputId": "98c21d02-065d-47d7-ee78-c6f980cb9f09"
      },
      "execution_count": 40,
      "outputs": [
        {
          "output_type": "execute_result",
          "data": {
            "text/plain": [
              "array([ 0,  1,  2,  3,  4,  5,  6,  7,  8,  9, 10, 11, 12, 13, 14, 15])"
            ]
          },
          "metadata": {},
          "execution_count": 40
        }
      ]
    },
    {
      "cell_type": "code",
      "source": [
        "a = a.reshape((4,4))\n",
        "a"
      ],
      "metadata": {
        "colab": {
          "base_uri": "https://localhost:8080/"
        },
        "id": "FKcWdQiTQ-1S",
        "outputId": "5a049051-9645-4fa6-d4d2-f282fb49dc48"
      },
      "execution_count": 46,
      "outputs": [
        {
          "output_type": "execute_result",
          "data": {
            "text/plain": [
              "array([[ 0,  1,  2,  3],\n",
              "       [ 4,  5,  6,  7],\n",
              "       [ 8,  9, 10, 11],\n",
              "       [12, 13, 14, 15]])"
            ]
          },
          "metadata": {},
          "execution_count": 46
        }
      ]
    },
    {
      "cell_type": "code",
      "source": [
        "a[2:4,0:3]"
      ],
      "metadata": {
        "colab": {
          "base_uri": "https://localhost:8080/"
        },
        "id": "K2Y0JOwZRU7V",
        "outputId": "e8a269e5-a516-45af-9ea5-c30c9de2c063"
      },
      "execution_count": 49,
      "outputs": [
        {
          "output_type": "execute_result",
          "data": {
            "text/plain": [
              "array([[ 8,  9, 10],\n",
              "       [12, 13, 14]])"
            ]
          },
          "metadata": {},
          "execution_count": 49
        }
      ]
    },
    {
      "cell_type": "markdown",
      "source": [
        "# VECTORIZATION"
      ],
      "metadata": {
        "id": "dG7JyixDVqpl"
      }
    },
    {
      "cell_type": "markdown",
      "source": [
        "\n",
        "Ritornando allo script ad inizio lezione, anche se il primo è molto più lento è più chiaro che cosa fa ( i codici si scrivono una volta e si leggono molte)\n",
        "\n",
        "\n",
        "```\n",
        " for i in range(N):\n",
        "  l.append(i**2)\n",
        "\n",
        "\n",
        "a = np.arange(N)**2\n",
        "\n",
        "```\n",
        "***np.arange*** è la versione *VETTORIZZATA* del ciclo for scritto sopra: le funzioni e i metodi mostrati precedentemente rendono possibile la *Vettorizzazione*\n",
        "\n",
        "\n",
        "---\n"
      ],
      "metadata": {
        "id": "4pc6jbzaU6PT"
      }
    },
    {
      "cell_type": "code",
      "source": [
        "#CALORIMETRO MISURA\n",
        "\n",
        "import random\n",
        "import time\n",
        "\n",
        "\n",
        "import numpy as np\n",
        "import matplotlib.pyplot as plt\n",
        "\n",
        "TRUE_ENERGY = 100 #Gev\n",
        "SATURATION_ENERGY = 107 #Gev\n",
        "ENERGY_RESOLUTION = 0.05 # 5%\n",
        "N = 100000000000\n",
        "meas_energy = []\n",
        "\n",
        "def python_cal():\n",
        "  \"\"\"\n",
        "\n",
        "  \"\"\"\n",
        "  start_time = time.time()\n",
        "  for i in range(N):\n",
        "    E = TRUE_ENERGY  * random.normalvariate(1.,ENERGY_RESOLUTION)\n",
        "    if E >= SATURATION_ENERGY:\n",
        "      E = SATURATION_ENERGY\n",
        "      meas_energy.append(E)\n",
        "\n",
        "  elapsed_time = time-time() - start_time\n",
        "\n",
        "\n",
        "  plt.figure(\"Pure python\",elapsed_time)\n",
        "  plt.hist(meas_energy,bins = np.linspace(80.,120.,100))\n",
        "\n",
        "\n",
        "\n"
      ],
      "metadata": {
        "colab": {
          "base_uri": "https://localhost:8080/",
          "height": 373
        },
        "id": "LpSanq9nXP2R",
        "outputId": "486f0d3e-b940-4532-99db-54025ece5424"
      },
      "execution_count": 56,
      "outputs": [
        {
          "output_type": "error",
          "ename": "KeyboardInterrupt",
          "evalue": "ignored",
          "traceback": [
            "\u001b[0;31m---------------------------------------------------------------------------\u001b[0m",
            "\u001b[0;31mKeyboardInterrupt\u001b[0m                         Traceback (most recent call last)",
            "\u001b[0;32m<ipython-input-56-81261ef3d939>\u001b[0m in \u001b[0;36m<cell line: 35>\u001b[0;34m()\u001b[0m\n\u001b[1;32m     33\u001b[0m \u001b[0;34m\u001b[0m\u001b[0m\n\u001b[1;32m     34\u001b[0m \u001b[0;34m\u001b[0m\u001b[0m\n\u001b[0;32m---> 35\u001b[0;31m \u001b[0mpython_cal\u001b[0m\u001b[0;34m(\u001b[0m\u001b[0;34m)\u001b[0m\u001b[0;34m\u001b[0m\u001b[0;34m\u001b[0m\u001b[0m\n\u001b[0m\u001b[1;32m     36\u001b[0m \u001b[0mplt\u001b[0m\u001b[0;34m.\u001b[0m\u001b[0mshow\u001b[0m\u001b[0;34m(\u001b[0m\u001b[0;34m)\u001b[0m\u001b[0;34m\u001b[0m\u001b[0;34m\u001b[0m\u001b[0m\n",
            "\u001b[0;32m<ipython-input-56-81261ef3d939>\u001b[0m in \u001b[0;36mpython_cal\u001b[0;34m()\u001b[0m\n\u001b[1;32m     20\u001b[0m   \u001b[0mstart_time\u001b[0m \u001b[0;34m=\u001b[0m \u001b[0mtime\u001b[0m\u001b[0;34m.\u001b[0m\u001b[0mtime\u001b[0m\u001b[0;34m(\u001b[0m\u001b[0;34m)\u001b[0m\u001b[0;34m\u001b[0m\u001b[0;34m\u001b[0m\u001b[0m\n\u001b[1;32m     21\u001b[0m   \u001b[0;32mfor\u001b[0m \u001b[0mi\u001b[0m \u001b[0;32min\u001b[0m \u001b[0mrange\u001b[0m\u001b[0;34m(\u001b[0m\u001b[0mN\u001b[0m\u001b[0;34m)\u001b[0m\u001b[0;34m:\u001b[0m\u001b[0;34m\u001b[0m\u001b[0;34m\u001b[0m\u001b[0m\n\u001b[0;32m---> 22\u001b[0;31m     \u001b[0mE\u001b[0m \u001b[0;34m=\u001b[0m \u001b[0mTRUE_ENERGY\u001b[0m  \u001b[0;34m*\u001b[0m \u001b[0mrandom\u001b[0m\u001b[0;34m.\u001b[0m\u001b[0mnormalvariate\u001b[0m\u001b[0;34m(\u001b[0m\u001b[0;36m1.\u001b[0m\u001b[0;34m,\u001b[0m\u001b[0mENERGY_RESOLUTION\u001b[0m\u001b[0;34m)\u001b[0m\u001b[0;34m\u001b[0m\u001b[0;34m\u001b[0m\u001b[0m\n\u001b[0m\u001b[1;32m     23\u001b[0m     \u001b[0;32mif\u001b[0m \u001b[0mE\u001b[0m \u001b[0;34m>=\u001b[0m \u001b[0mSATURATION_ENERGY\u001b[0m\u001b[0;34m:\u001b[0m\u001b[0;34m\u001b[0m\u001b[0;34m\u001b[0m\u001b[0m\n\u001b[1;32m     24\u001b[0m       \u001b[0mE\u001b[0m \u001b[0;34m=\u001b[0m \u001b[0mSATURATION_ENERGY\u001b[0m\u001b[0;34m\u001b[0m\u001b[0;34m\u001b[0m\u001b[0m\n",
            "\u001b[0;32m/usr/lib/python3.10/random.py\u001b[0m in \u001b[0;36mnormalvariate\u001b[0;34m(self, mu, sigma)\u001b[0m\n\u001b[1;32m    585\u001b[0m             \u001b[0mz\u001b[0m \u001b[0;34m=\u001b[0m \u001b[0mNV_MAGICCONST\u001b[0m \u001b[0;34m*\u001b[0m \u001b[0;34m(\u001b[0m\u001b[0mu1\u001b[0m \u001b[0;34m-\u001b[0m \u001b[0;36m0.5\u001b[0m\u001b[0;34m)\u001b[0m \u001b[0;34m/\u001b[0m \u001b[0mu2\u001b[0m\u001b[0;34m\u001b[0m\u001b[0;34m\u001b[0m\u001b[0m\n\u001b[1;32m    586\u001b[0m             \u001b[0mzz\u001b[0m \u001b[0;34m=\u001b[0m \u001b[0mz\u001b[0m \u001b[0;34m*\u001b[0m \u001b[0mz\u001b[0m \u001b[0;34m/\u001b[0m \u001b[0;36m4.0\u001b[0m\u001b[0;34m\u001b[0m\u001b[0;34m\u001b[0m\u001b[0m\n\u001b[0;32m--> 587\u001b[0;31m             \u001b[0;32mif\u001b[0m \u001b[0mzz\u001b[0m \u001b[0;34m<=\u001b[0m \u001b[0;34m-\u001b[0m\u001b[0m_log\u001b[0m\u001b[0;34m(\u001b[0m\u001b[0mu2\u001b[0m\u001b[0;34m)\u001b[0m\u001b[0;34m:\u001b[0m\u001b[0;34m\u001b[0m\u001b[0;34m\u001b[0m\u001b[0m\n\u001b[0m\u001b[1;32m    588\u001b[0m                 \u001b[0;32mbreak\u001b[0m\u001b[0;34m\u001b[0m\u001b[0;34m\u001b[0m\u001b[0m\n\u001b[1;32m    589\u001b[0m         \u001b[0;32mreturn\u001b[0m \u001b[0mmu\u001b[0m \u001b[0;34m+\u001b[0m \u001b[0mz\u001b[0m \u001b[0;34m*\u001b[0m \u001b[0msigma\u001b[0m\u001b[0;34m\u001b[0m\u001b[0;34m\u001b[0m\u001b[0m\n",
            "\u001b[0;31mKeyboardInterrupt\u001b[0m: "
          ]
        }
      ]
    },
    {
      "cell_type": "markdown",
      "source": [
        "---\n",
        "\n",
        "vectorize\n",
        "\n",
        "---"
      ],
      "metadata": {
        "id": "_8G6AEf8ZElN"
      }
    },
    {
      "cell_type": "code",
      "source": [
        "#CALORIMETRO MISURA\n",
        "\n",
        "import random\n",
        "import time\n",
        "\n",
        "\n",
        "import numpy as np\n",
        "import matplotlib.pyplot as plt\n",
        "\n",
        "ENERGY = 100 #Gev\n",
        "SATURATION_ENERGY = 107#Gev\n",
        "ENERGY_RESOLUTION = 0.05 # 5%\n",
        "N = 100000000000\n",
        "\n",
        "def numpy_cal():\n",
        "  \"\"\"\n",
        "\n",
        "  \"\"\"\n",
        "  start_time = time.time()\n",
        "\n",
        "  meas_energy = ENERGY  * np.random.normal(1.,ENERGY_RESOLUTION,size = N)\n",
        "  mask = meas_energy >= SATURATION_ENERGY #MASKING: https://numpy.org/doc/stable/reference/maskedarray.generic.html\n",
        "\n",
        "\n",
        "  elapsed_time = time-time() - start_time\n",
        "\n",
        "\n",
        "  plt.figure(\"numpy\",elapsed_time)\n",
        "  plt.hist(meas_energy,bins = np.linspace(80.,120.,100))\n",
        "\n",
        "\n"
      ],
      "metadata": {
        "id": "iNJzonfhZCuj"
      },
      "execution_count": 58,
      "outputs": []
    },
    {
      "cell_type": "code",
      "source": [
        "numpy_cal()\n",
        "plt.show()"
      ],
      "metadata": {
        "id": "vHeFwMjFcQSm"
      },
      "execution_count": null,
      "outputs": []
    },
    {
      "cell_type": "code",
      "source": [
        "\n",
        "python_cal()\n",
        "plt.show()"
      ],
      "metadata": {
        "id": "izjcba5NcUDI"
      },
      "execution_count": null,
      "outputs": []
    },
    {
      "cell_type": "markdown",
      "source": [
        "---\n",
        "\n",
        "# MASKING:\n",
        "https://numpy.org/doc/stable/reference/maskedarray.generic.html\n",
        "\n",
        "Crea un vettore booleano lungo quanto il vettore maskato con valori True se la condizione è rispettata e False al contrario\n",
        "\n",
        "\n",
        "```\n",
        "\n",
        "import numpy as np\n",
        "import numpy.ma as ma\n",
        "x = np.array([1, 2, 3, -1, 5])\n",
        "\n",
        "#We wish to mark the fourth entry as invalid.\n",
        "\n",
        "mx = ma.masked_array(x, mask=[0, 0, 0, 1, 0])\n",
        "\n",
        "x.mean()\n",
        "mx.mean()\n",
        "\n",
        "```\n",
        "---"
      ],
      "metadata": {
        "id": "GNbOCaXTb7rm"
      }
    },
    {
      "cell_type": "markdown",
      "source": [
        "Non sempre la vettorizzazione è vantaggiosa e utile, in alcuni casi peggiora: quando non conosco la lunghezza dei vettori in gioco!"
      ],
      "metadata": {
        "id": "6w98EgXle6HW"
      }
    },
    {
      "cell_type": "markdown",
      "source": [
        "**DETECTOR EXAMPLE:** *NON CONOSCO QUANTE PAIA DI PARTICELLE E ANTIPARTICELLE IL MIO ELETTRONE GENERA DURANTE L'INTERAZIONE*"
      ],
      "metadata": {
        "id": "uyPz_I0vgNvz"
      }
    }
  ]
}