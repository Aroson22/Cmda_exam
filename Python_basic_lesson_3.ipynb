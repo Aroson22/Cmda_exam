{
  "nbformat": 4,
  "nbformat_minor": 0,
  "metadata": {
    "colab": {
      "provenance": [],
      "authorship_tag": "ABX9TyMdA8JF+2FWGMR3dqQgc9aX",
      "include_colab_link": true
    },
    "kernelspec": {
      "name": "python3",
      "display_name": "Python 3"
    },
    "language_info": {
      "name": "python"
    }
  },
  "cells": [
    {
      "cell_type": "markdown",
      "metadata": {
        "id": "view-in-github",
        "colab_type": "text"
      },
      "source": [
        "<a href=\"https://colab.research.google.com/github/Aroson22/Cmda_exam/blob/main/Python_basic_lesson_3.ipynb\" target=\"_parent\"><img src=\"https://colab.research.google.com/assets/colab-badge.svg\" alt=\"Open In Colab\"/></a>"
      ]
    },
    {
      "cell_type": "markdown",
      "source": [
        "# ***Lezione 3 pyhton basic cmda***\n"
      ],
      "metadata": {
        "id": "9-gUN2Oknkcx"
      }
    },
    {
      "cell_type": "markdown",
      "source": [
        "**Comandi base e buone abitudini**\n",
        "\n",
        "---"
      ],
      "metadata": {
        "id": "nX7w9NNWrC2_"
      }
    },
    {
      "cell_type": "code",
      "source": [
        "help(\"modules\")"
      ],
      "metadata": {
        "id": "3s2EyJGW5TPz"
      },
      "execution_count": null,
      "outputs": []
    },
    {
      "cell_type": "markdown",
      "source": [
        "Mostra i vari moduli scaricati"
      ],
      "metadata": {
        "id": "BxK7hoF95WUt"
      }
    },
    {
      "cell_type": "code",
      "execution_count": null,
      "metadata": {
        "id": "SHRBcaDpnjAS"
      },
      "outputs": [],
      "source": [
        "from math import *"
      ]
    },
    {
      "cell_type": "markdown",
      "source": [
        "Questo modo di ***importare tutte le funzioni*** della libreria ***math*** è assai pericoloso, si rischia di non capire da dove queste funzioni vengano.\n",
        "Sopratutto se ho già funzioni con lo stesso nome di quelle presenti nella libreria corro il rischio, a seconda che definisca prima la mia funzione o importi le funzione da libreria, di incorrere in un ***conflitto di nome***"
      ],
      "metadata": {
        "id": "PlZ39maQrSjp"
      }
    },
    {
      "cell_type": "code",
      "source": [
        "x = log (2.73)\n",
        "print(x)"
      ],
      "metadata": {
        "id": "ebq8Tl43r9WC",
        "outputId": "7ed7d577-e094-47e7-c60e-32e389f2401f",
        "colab": {
          "base_uri": "https://localhost:8080/"
        }
      },
      "execution_count": null,
      "outputs": [
        {
          "output_type": "stream",
          "name": "stdout",
          "text": [
            "1.0043016091968684\n"
          ]
        }
      ]
    },
    {
      "cell_type": "markdown",
      "source": [
        "definiamo una funzione fantoccio e chiamiamola ***log***"
      ],
      "metadata": {
        "id": "sQJ5AWao2ZXG"
      }
    },
    {
      "cell_type": "code",
      "source": [
        "def log(*args):\n",
        "  print(args)"
      ],
      "metadata": {
        "id": "3TdlqSOwsL_t"
      },
      "execution_count": null,
      "outputs": []
    },
    {
      "cell_type": "code",
      "source": [
        "log(2.73)"
      ],
      "metadata": {
        "id": "scwezv8csXDk",
        "outputId": "6e761f9e-1eb9-4b4e-d6d0-3a1dba89e8ab",
        "colab": {
          "base_uri": "https://localhost:8080/"
        }
      },
      "execution_count": null,
      "outputs": [
        {
          "output_type": "stream",
          "name": "stdout",
          "text": [
            "(2.73,)\n"
          ]
        }
      ]
    },
    {
      "cell_type": "markdown",
      "source": [
        " **Adesso la funzione log non è più la funzione logaritmo.**"
      ],
      "metadata": {
        "id": "UeXUxFWWscx6"
      }
    },
    {
      "cell_type": "code",
      "source": [
        "from math import log"
      ],
      "metadata": {
        "id": "bTbf31nNsnG-"
      },
      "execution_count": null,
      "outputs": []
    },
    {
      "cell_type": "code",
      "source": [
        "a = log(2.71)\n",
        "print(a)"
      ],
      "metadata": {
        "id": "HqRSTQTks_4s",
        "outputId": "924f9bf6-9387-4636-d429-265317c15b1d",
        "colab": {
          "base_uri": "https://localhost:8080/"
        }
      },
      "execution_count": null,
      "outputs": [
        {
          "output_type": "stream",
          "name": "stdout",
          "text": [
            "0.9969486348916096\n"
          ]
        }
      ]
    },
    {
      "cell_type": "markdown",
      "source": [
        "Questo metodo per importare la singola funzione è più pulito, mi permette di non dover importare l'intera gamma di funzioni presenti nella libreria math, ma d'altro canto ***in una eventuale revisione del codice avrei problemi ad identificare da dove la funzione log viene fuori***."
      ],
      "metadata": {
        "id": "D9VbJHzotF5g"
      }
    },
    {
      "cell_type": "code",
      "source": [
        "import math"
      ],
      "metadata": {
        "id": "pssf1m9itd3w"
      },
      "execution_count": null,
      "outputs": []
    },
    {
      "cell_type": "markdown",
      "source": [
        "A meno che non si tratti di librerie particolari come ***numpy*** o ***matplotlib***.pyplot è sempre meglio usare il nome originale della libreria per evitare misunderstandings."
      ],
      "metadata": {
        "id": "OVd_jAlythSP"
      }
    },
    {
      "cell_type": "code",
      "source": [
        "x = math.log(2.71)\n",
        "print(x)"
      ],
      "metadata": {
        "id": "OhdnvQD4tyfH",
        "outputId": "48f6d689-8639-41cd-8833-48c41e0e6aa9",
        "colab": {
          "base_uri": "https://localhost:8080/"
        }
      },
      "execution_count": null,
      "outputs": [
        {
          "output_type": "stream",
          "name": "stdout",
          "text": [
            "0.9969486348916096\n"
          ]
        }
      ]
    },
    {
      "cell_type": "markdown",
      "source": [
        "***Devo scrivere un po' di più ma facilito la revisione***\n",
        "\n",
        "---"
      ],
      "metadata": {
        "id": "wUVAStmwt4zf"
      }
    },
    {
      "cell_type": "markdown",
      "source": [
        "# **Environmental variables**"
      ],
      "metadata": {
        "id": "BfGEspEOuAjQ"
      }
    },
    {
      "cell_type": "markdown",
      "source": [
        "Per ***environmental varibables*** si intende un tipo particolare di variabile ***presente nell'ambiente globale di un'interprete di comando*** e che è ***accessibile dai processi*** tramite meccanismi di gestione dipendenti.\n",
        "Ha la capacità di influenzare il modo in cui i processi vengono eseguiti sul computer. Sono parte dell'ambiente in cui il programma viene eseguito: \"***a running process can query the value of the TEMP environment variable to discover a suitable location to store temporary files, or the HOME or USERPROFILE variable to find the directory structure owned by the user running the process.***\""
      ],
      "metadata": {
        "id": "uRIFjDDXuQ2f"
      }
    },
    {
      "cell_type": "markdown",
      "source": [
        "**PYTHONPATH** è una variabile di ambiente che specifica una lista di directories per cercare i modulti python quando si stanno importando.\n",
        "\n",
        "\n",
        "\n",
        "Quando importiamo un modulo Python non lo cerca su tutta la memoria, ma va a guardare nelle directories specificate in ***sys.path***: una lista di directories che include quella corrente di lavoro più quelle specificate su ***PYTHONPATH***\n",
        "\n",
        "\n",
        "\n",
        "Possiamo quindi usarla per aggiungere altre directories dove poter andare a cercare il modulo o il pacchetto.\n"
      ],
      "metadata": {
        "id": "MpoKzjvF0zs5"
      }
    },
    {
      "cell_type": "markdown",
      "source": [
        "You can set PYTHONPATH in the terminal before running a Python script. Here's an example:\n",
        "1.    export PYTHONPATH=/path/to/my/modules/\n",
        "2.    python my_script.py\n",
        "\n",
        "\n"
      ],
      "metadata": {
        "id": "__Oxl4lb3MW4"
      }
    },
    {
      "cell_type": "markdown",
      "source": [
        "You can ***set or append*** PYTHONPATH in your Python script using the ***os module***. Here's an example:"
      ],
      "metadata": {
        "id": "qW7j6_QF3viW"
      }
    },
    {
      "cell_type": "code",
      "source": [
        "import os\n",
        "import sys\n",
        "sys.path.insert(0, os.path.abspath(\"/path/to/my/modules/\"))\n",
        "sys.path.append(os.path.abspath(\"/path/to/my/modules/\"))"
      ],
      "metadata": {
        "id": "dylOlcPaz7cB"
      },
      "execution_count": null,
      "outputs": []
    },
    {
      "cell_type": "markdown",
      "source": [
        "In genere si usano le seguenti librerie:\n",
        "* ***os***\n",
        "* ***os.path***\n",
        "* ***glob***\n",
        "* ***shutil***\n",
        "\n",
        "Utili per azioni come: *Access to file system* ( create, copy and access to file or directories), *List directory contents* , Environmental variables* , *Absolure and relative paths*  and *Execute OS commands*"
      ],
      "metadata": {
        "id": "TgWYrD_anQs4"
      }
    },
    {
      "cell_type": "markdown",
      "source": [
        "# Pathlib:\n",
        "\n",
        "This module offers classes representing filesystem paths with semantics appropriate for different operating systems. Path classes are divided between pure paths, which provide purely computational operations without I/O, and concrete paths, which inherit from pure paths but also provide I/O operations.\n",
        "\n",
        "bibliografia: https://docs.python.org/3/library/pathlib.html"
      ],
      "metadata": {
        "id": "GCTcljP5oQqj"
      }
    },
    {
      "cell_type": "markdown",
      "source": [
        "---\n",
        "# Piccolo escursus su come calcolare il tempo di processo, da rivedere per l'assegnamento"
      ],
      "metadata": {
        "id": "4esEHjtp5nNy"
      }
    },
    {
      "cell_type": "code",
      "source": [
        "import time\n",
        "start = time.process_time()\n",
        "# your code here\n",
        "import math\n",
        "x = math.log(float(input()))\n",
        "print(x)\n",
        "print(time.process_time() - start)"
      ],
      "metadata": {
        "id": "v4neuWOL4bZx"
      },
      "execution_count": null,
      "outputs": []
    },
    {
      "cell_type": "markdown",
      "source": [
        "* Bibliografia per la libreria ***TIME***: https://docs.python.org/3/library/time.html\n",
        "* Bibliografia per la libreria ***DATETIME***: https://docs.python.org/3/library/datetime.html\n",
        "* Bibliografia per la libreria ***CALENDAR***: https://docs.python.org/3/library/calendar.html"
      ],
      "metadata": {
        "id": "j6wbnKdQhtes"
      }
    },
    {
      "cell_type": "markdown",
      "source": [
        "---"
      ],
      "metadata": {
        "id": "6excYwjt5vzc"
      }
    },
    {
      "cell_type": "markdown",
      "source": [
        "# ***Logging facility for Python***\n",
        "\n",
        "This module defines functions and classes which implement a flexible event logging system for applications and libraries.\n",
        "\n",
        "The key benefit of having the logging API provided by a standard library module is that all Python modules can participate in logging, so your application log can include your own messages integrated with messages from third-party modules"
      ],
      "metadata": {
        "id": "qYsewATE5xCY"
      }
    },
    {
      "cell_type": "markdown",
      "source": [
        "# Stop Using **“Print”** and Start Using **“Logging”**\n",
        "\n"
      ],
      "metadata": {
        "id": "fBAaARz597zg"
      }
    },
    {
      "cell_type": "markdown",
      "source": [
        "\n",
        "* *Debug (logging.debug())*: Providing information to diagnosing problems.\n",
        "\n",
        "* *Info (logging.info()):* Tracking the normal operation of a program.\n",
        "\n",
        "* *Warning (logging.warning()):* Although the code is still working as expected,  something unexpected happened.\n",
        "\n",
        "* *Error (logging.error()):* The code was unable to run some parts.\n",
        "\n",
        "\n",
        "* *Critical (logging.critical()):* The code cannot run.\n",
        "\n",
        "\n"
      ],
      "metadata": {
        "id": "auHDnQUc-2Sg"
      }
    },
    {
      "cell_type": "code",
      "source": [
        "import logging\n",
        "\n",
        "logging.warning(\"I'm a warning!\")\n",
        "logging.info(\"Hello, Python!\")\n",
        "logging.debug(\"I'm a debug message!\")"
      ],
      "metadata": {
        "colab": {
          "base_uri": "https://localhost:8080/"
        },
        "id": "cBiOWp4E8G6p",
        "outputId": "71207fff-2006-461b-b055-195d95ec6ecb"
      },
      "execution_count": null,
      "outputs": [
        {
          "output_type": "stream",
          "name": "stderr",
          "text": [
            "WARNING:root:I'm a warning!\n"
          ]
        }
      ]
    },
    {
      "cell_type": "markdown",
      "source": [
        "Where are our other messages? Why was only the warning message printed?\n",
        "\n",
        "Well, it has to do with logging levels."
      ],
      "metadata": {
        "id": "Iy8OqFFeAjLg"
      }
    },
    {
      "cell_type": "code",
      "source": [
        "import logging\n",
        "\n",
        "logging.basicConfig(level = logging.DEBUG)\n",
        "logging.getLogger('my-app')\n",
        "\n",
        "if __name__ == \"__main__\":\n",
        "    logging.warning(\"I'm a warning\")\n",
        "    logging.info(msg =\"CIAO STUDENTE MEDIO INCAPACE BASTARDO INFAMEEEE\")\n",
        "    logging.debug(\"I'm a debug message!\")"
      ],
      "metadata": {
        "colab": {
          "base_uri": "https://localhost:8080/"
        },
        "id": "ZKD6DJDAAkoI",
        "outputId": "4b15ad3c-4ff3-41e2-f8cd-c243290b6f8e"
      },
      "execution_count": null,
      "outputs": [
        {
          "output_type": "stream",
          "name": "stderr",
          "text": [
            "WARNING:root:I'm a warning\n",
            "INFO:root:CIAO STUDENTE MEDIO INCAPACE BASTARDO INFAMEEEE\n",
            "DEBUG:root:I'm a debug message!\n"
          ]
        }
      ]
    },
    {
      "cell_type": "markdown",
      "source": [
        "Guida trovata su internet:"
      ],
      "metadata": {
        "id": "-P7B42CpgO1i"
      }
    },
    {
      "cell_type": "code",
      "source": [
        "import logging\n",
        "# This sets the root logger to write to stdout (your console).\n",
        "# Your script/app needs to call this somewhere at least once.\n",
        "logging.basicConfig()\n",
        "\n",
        "# By default the root logger is set to WARNING and all loggers you define\n",
        "# inherit that value. Here we set the root logger to NOTSET. This logging\n",
        "# level is automatically inherited by all existing and new sub-loggers\n",
        "# that do not set a less verbose level.\n",
        "logging.root.setLevel(logging.NOTSET)\n",
        "\n",
        "# The following line sets the root logger level as well.\n",
        "# It's equivalent to both previous statements combined:\n",
        "logging.basicConfig(level=logging.NOTSET)\n",
        "\n",
        "\n",
        "# You can either share the `logger` object between all your files or the\n",
        "# name handle (here `my-app`) and call `logging.getLogger` with it.\n",
        "# The result is the same.\n",
        "handle = \"my-app\"\n",
        "logger1 = logging.getLogger(handle)\n",
        "logger2 = logging.getLogger(handle)\n",
        "# logger1 and logger2 point to the same object:\n",
        "# (logger1 is logger2) == True\n",
        "\n",
        "logger = logging.getLogger(\"my-app\")\n",
        "# Convenient methods in order of verbosity from highest to lowest\n",
        "logger.debug(\"this will get printed\")\n",
        "logger.info(\"this will get printed\")\n",
        "logger.warning(\"this will get printed\")\n",
        "logger.error(\"this will get printed\")\n",
        "logger.critical(\"this will get printed\")\n",
        "\n",
        "# In large applications where you would like more control over the logging,\n",
        "# create sub-loggers from your main application logger.\n",
        "component_logger = logger.getChild(\"component-a\")\n",
        "component_logger.info(\"this will get printed with the prefix `my-app.component-a`\")\n",
        "\n",
        "# If you wish to control the logging levels, you can set the level anywhere\n",
        "# in the hierarchy:\n",
        "#\n",
        "# - root\n",
        "#   - my-app\n",
        "#     - component-a\n",
        "#\n",
        "\n",
        "# Example for development:\n",
        "logger.setLevel(logging.DEBUG)\n",
        "\n",
        "# If that prints too much, enable debug printing only for your component:\n",
        "component_logger.setLevel(logging.DEBUG)\n",
        "\n",
        "\n",
        "# For production you rather want:\n",
        "logger.setLevel(logging.WARNING)"
      ],
      "metadata": {
        "id": "tMxWfatnetv8",
        "outputId": "757b664d-a2a2-429d-f1a6-abf7b53eeb94",
        "colab": {
          "base_uri": "https://localhost:8080/"
        }
      },
      "execution_count": null,
      "outputs": [
        {
          "output_type": "stream",
          "name": "stderr",
          "text": [
            "DEBUG:my-app:this will get printed\n",
            "INFO:my-app:this will get printed\n",
            "WARNING:my-app:this will get printed\n",
            "ERROR:my-app:this will get printed\n",
            "CRITICAL:my-app:this will get printed\n",
            "INFO:my-app.component-a:this will get printed with the prefix `my-app.component-a`\n"
          ]
        }
      ]
    },
    {
      "cell_type": "markdown",
      "source": [
        "***Applicazione rapida***"
      ],
      "metadata": {
        "id": "CUXRdjhZgSy_"
      }
    },
    {
      "cell_type": "markdown",
      "source": [],
      "metadata": {
        "id": "UUpCYotPgSeu"
      }
    },
    {
      "cell_type": "code",
      "source": [
        "import logging\n",
        "\n",
        "prefisso = 'my_first_colab'\n",
        "logger1 = logging.getLogger(prefisso)\n",
        "logger1.info('riesco a printare')"
      ],
      "metadata": {
        "id": "q0qFt4izft5_",
        "outputId": "28af2783-3b72-4ce3-a312-2f0f3be74840",
        "colab": {
          "base_uri": "https://localhost:8080/"
        }
      },
      "execution_count": null,
      "outputs": [
        {
          "output_type": "stream",
          "name": "stderr",
          "text": [
            "INFO:my_first_colab:riesco a printare\n"
          ]
        }
      ]
    },
    {
      "cell_type": "markdown",
      "source": [
        "# **Guarda anche loguru**\n",
        "\n",
        "Documentation: https://loguru.readthedocs.io/en/stable/"
      ],
      "metadata": {
        "id": "zNrG9-XR3fzH"
      }
    },
    {
      "cell_type": "markdown",
      "source": [
        "---\n"
      ],
      "metadata": {
        "id": "tPyiPxbbgqzj"
      }
    },
    {
      "cell_type": "markdown",
      "source": [
        "# ***Argparse***\n",
        "\n",
        "The argparse module makes it easy to write user-friendly command-line interfaces. The program defines what arguments it requires, and argparse will figure out how to parse those out of sys.argv. The argparse module also automatically generates help and usage messages. The module will also issue errors when users give the program invalid arguments"
      ],
      "metadata": {
        "id": "XuQXA2jRwOsf"
      }
    },
    {
      "cell_type": "markdown",
      "source": [
        "Mi permette di aggiungere una descrizione, per leggibilità future, dei vari argomenti e commandi aggiuntivi in modo da opzionare il mio codice: il nome argparse significa analisi degli argomenti.\n",
        "Video basic : https://www.youtube.com/watch?v=5qQihCe6eis&ab_channel=PyMike\n",
        "Bibliografia :https://docs.python.org/3/library/argparse.html\n",
        "\n",
        "---"
      ],
      "metadata": {
        "id": "uXDZSuas0sHP"
      }
    }
  ]
}