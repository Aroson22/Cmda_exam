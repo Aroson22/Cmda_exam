{
  "nbformat": 4,
  "nbformat_minor": 0,
  "metadata": {
    "colab": {
      "provenance": [],
      "authorship_tag": "ABX9TyPbJyXN1OHyIJlAK4Hazor+",
      "include_colab_link": true
    },
    "kernelspec": {
      "name": "python3",
      "display_name": "Python 3"
    },
    "language_info": {
      "name": "python"
    }
  },
  "cells": [
    {
      "cell_type": "markdown",
      "metadata": {
        "id": "view-in-github",
        "colab_type": "text"
      },
      "source": [
        "<a href=\"https://colab.research.google.com/github/Aroson22/Cmda_exam/blob/main/Python_basic_lesson_3.ipynb\" target=\"_parent\"><img src=\"https://colab.research.google.com/assets/colab-badge.svg\" alt=\"Open In Colab\"/></a>"
      ]
    },
    {
      "cell_type": "markdown",
      "source": [
        "Lezione 3 pyhton basic\n",
        "cmda"
      ],
      "metadata": {
        "id": "9-gUN2Oknkcx"
      }
    },
    {
      "cell_type": "markdown",
      "source": [
        "**Comandi base e buone abitudini**"
      ],
      "metadata": {
        "id": "nX7w9NNWrC2_"
      }
    },
    {
      "cell_type": "code",
      "execution_count": 1,
      "metadata": {
        "id": "SHRBcaDpnjAS"
      },
      "outputs": [],
      "source": [
        "from math import *"
      ]
    },
    {
      "cell_type": "markdown",
      "source": [
        "Questo modo di ***importare tutte le funzioni*** della libreria ***math*** è assai pericoloso, si rischia di non capire da dove queste funzioni vengano.\n",
        "Sopratutto se ho già funzioni con lo stesso nome di quelle presenti nella libreria corro il rischio, a seconda che definisca prima la mia funzione o importi le funzione da libreria, di incorrere in un ***conflitto di nome***"
      ],
      "metadata": {
        "id": "PlZ39maQrSjp"
      }
    },
    {
      "cell_type": "code",
      "source": [
        "x = log (2.73)\n",
        "print(x)"
      ],
      "metadata": {
        "id": "ebq8Tl43r9WC",
        "outputId": "7ed7d577-e094-47e7-c60e-32e389f2401f",
        "colab": {
          "base_uri": "https://localhost:8080/"
        }
      },
      "execution_count": 3,
      "outputs": [
        {
          "output_type": "stream",
          "name": "stdout",
          "text": [
            "1.0043016091968684\n"
          ]
        }
      ]
    },
    {
      "cell_type": "markdown",
      "source": [
        "definiamo una funzione fantoccio e chiamiamola ***log***"
      ],
      "metadata": {
        "id": "sQJ5AWao2ZXG"
      }
    },
    {
      "cell_type": "code",
      "source": [
        "def log(*args):\n",
        "  print(args)"
      ],
      "metadata": {
        "id": "3TdlqSOwsL_t"
      },
      "execution_count": 16,
      "outputs": []
    },
    {
      "cell_type": "code",
      "source": [
        "log(2.73)"
      ],
      "metadata": {
        "id": "scwezv8csXDk",
        "outputId": "6e761f9e-1eb9-4b4e-d6d0-3a1dba89e8ab",
        "colab": {
          "base_uri": "https://localhost:8080/"
        }
      },
      "execution_count": 17,
      "outputs": [
        {
          "output_type": "stream",
          "name": "stdout",
          "text": [
            "(2.73,)\n"
          ]
        }
      ]
    },
    {
      "cell_type": "markdown",
      "source": [
        " **Adesso la funzione log non è più la funzione logaritmo.**"
      ],
      "metadata": {
        "id": "UeXUxFWWscx6"
      }
    },
    {
      "cell_type": "code",
      "source": [
        "from math import log"
      ],
      "metadata": {
        "id": "bTbf31nNsnG-"
      },
      "execution_count": 9,
      "outputs": []
    },
    {
      "cell_type": "code",
      "source": [
        "a = log(2.71)\n",
        "print(a)"
      ],
      "metadata": {
        "id": "HqRSTQTks_4s",
        "outputId": "924f9bf6-9387-4636-d429-265317c15b1d",
        "colab": {
          "base_uri": "https://localhost:8080/"
        }
      },
      "execution_count": 10,
      "outputs": [
        {
          "output_type": "stream",
          "name": "stdout",
          "text": [
            "0.9969486348916096\n"
          ]
        }
      ]
    },
    {
      "cell_type": "markdown",
      "source": [
        "Questo metodo per importare la singola funzione è più pulito, mi permette di non dover importare l'intera gamma di funzioni presenti nella libreria math, ma d'altro canto ***in una eventuale revisione del codice avrei problemi ad identificare da dove la funzione log viene fuori***."
      ],
      "metadata": {
        "id": "D9VbJHzotF5g"
      }
    },
    {
      "cell_type": "code",
      "source": [
        "import math"
      ],
      "metadata": {
        "id": "pssf1m9itd3w"
      },
      "execution_count": 12,
      "outputs": []
    },
    {
      "cell_type": "markdown",
      "source": [
        "A meno che non si tratti di librerie particolari come ***numpy*** o ***matplotlib***.pyplot è sempre meglio usare il nome originale della libreria per evitare misunderstandings."
      ],
      "metadata": {
        "id": "OVd_jAlythSP"
      }
    },
    {
      "cell_type": "code",
      "source": [
        "x = math.log(2.71)\n",
        "print(x)"
      ],
      "metadata": {
        "id": "OhdnvQD4tyfH",
        "outputId": "48f6d689-8639-41cd-8833-48c41e0e6aa9",
        "colab": {
          "base_uri": "https://localhost:8080/"
        }
      },
      "execution_count": 13,
      "outputs": [
        {
          "output_type": "stream",
          "name": "stdout",
          "text": [
            "0.9969486348916096\n"
          ]
        }
      ]
    },
    {
      "cell_type": "markdown",
      "source": [
        "***Devo scrivere un po' di più ma facilito la revisione***"
      ],
      "metadata": {
        "id": "wUVAStmwt4zf"
      }
    },
    {
      "cell_type": "markdown",
      "source": [
        "# **Environmental variables**"
      ],
      "metadata": {
        "id": "BfGEspEOuAjQ"
      }
    },
    {
      "cell_type": "markdown",
      "source": [
        "Per ***environmental varibables*** si intende un tipo particolare di variabile ***presente nell'ambiente globale di un'interprete di comando*** e che è ***accessibile dai processi*** tramite meccanismi di gestione dipendenti.\n",
        "Ha la capacità di influenzare il modo in cui i processi vengono eseguiti sul computer. Sono parte dell'ambiente in cui il programma viene eseguito: \"***a running process can query the value of the TEMP environment variable to discover a suitable location to store temporary files, or the HOME or USERPROFILE variable to find the directory structure owned by the user running the process.***\""
      ],
      "metadata": {
        "id": "uRIFjDDXuQ2f"
      }
    },
    {
      "cell_type": "markdown",
      "source": [
        "**PYTHONPATH** è una variabile di ambiente che specifica una lista di directories per cercare i modulti python quando si stanno importando.\n",
        "\n",
        "---\n",
        "\n",
        "Quando importiamo un modulo Python non lo cerca su tutta la memoria, ma va a guardare nelle directories specificate in ***sys.path***: una lista di directories che include quella corrente di lavoro più quelle specificate su ***PYTHONPATH***\n",
        "\n",
        "---\n",
        "\n",
        "Possiamo quindi usarla per aggiungere altre directories dove poter andare a cercare il modulo o il pacchetto.\n"
      ],
      "metadata": {
        "id": "MpoKzjvF0zs5"
      }
    },
    {
      "cell_type": "markdown",
      "source": [
        "You can set PYTHONPATH in the terminal before running a Python script. Here's an example:\n",
        "1.    export PYTHONPATH=/path/to/my/modules/\n",
        "2.    python my_script.py\n",
        "\n",
        "\n"
      ],
      "metadata": {
        "id": "__Oxl4lb3MW4"
      }
    },
    {
      "cell_type": "markdown",
      "source": [
        "You can ***set or append*** PYTHONPATH in your Python script using the ***os module***. Here's an example:"
      ],
      "metadata": {
        "id": "qW7j6_QF3viW"
      }
    },
    {
      "cell_type": "code",
      "source": [
        "import os\n",
        "import sys\n",
        "sys.path.insert(0, os.path.abspath(\"/path/to/my/modules/\"))\n",
        "sys.path.append(os.path.abspath(\"/path/to/my/modules/\"))"
      ],
      "metadata": {
        "id": "dylOlcPaz7cB"
      },
      "execution_count": 19,
      "outputs": []
    },
    {
      "cell_type": "markdown",
      "source": [
        "---\n",
        "piccolo escursus su come calcolare il tempo di processo, da rivedere per l'assegnamento"
      ],
      "metadata": {
        "id": "4esEHjtp5nNy"
      }
    },
    {
      "cell_type": "code",
      "source": [
        "import time\n",
        "start = time.process_time()\n",
        "# your code here\n",
        "import math\n",
        "x = math.log(float(input()))\n",
        "print(x)\n",
        "print(time.process_time() - start)"
      ],
      "metadata": {
        "id": "v4neuWOL4bZx"
      },
      "execution_count": null,
      "outputs": []
    },
    {
      "cell_type": "markdown",
      "source": [
        "---"
      ],
      "metadata": {
        "id": "6excYwjt5vzc"
      }
    },
    {
      "cell_type": "markdown",
      "source": [],
      "metadata": {
        "id": "qYsewATE5xCY"
      }
    }
  ]
}