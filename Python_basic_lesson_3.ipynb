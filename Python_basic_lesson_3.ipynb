{
  "nbformat": 4,
  "nbformat_minor": 0,
  "metadata": {
    "colab": {
      "provenance": [],
      "authorship_tag": "ABX9TyO3qOviy+rMr8j+kK894Kzs",
      "include_colab_link": true
    },
    "kernelspec": {
      "name": "python3",
      "display_name": "Python 3"
    },
    "language_info": {
      "name": "python"
    }
  },
  "cells": [
    {
      "cell_type": "markdown",
      "metadata": {
        "id": "view-in-github",
        "colab_type": "text"
      },
      "source": [
        "<a href=\"https://colab.research.google.com/github/Aroson22/Cmda_exam/blob/main/Python_basic_lesson_3.ipynb\" target=\"_parent\"><img src=\"https://colab.research.google.com/assets/colab-badge.svg\" alt=\"Open In Colab\"/></a>"
      ]
    },
    {
      "cell_type": "markdown",
      "source": [
        "Lezione 3 pyhton basic\n",
        "cmda"
      ],
      "metadata": {
        "id": "9-gUN2Oknkcx"
      }
    },
    {
      "cell_type": "markdown",
      "source": [
        "**Comandi base e buone abitudini**"
      ],
      "metadata": {
        "id": "nX7w9NNWrC2_"
      }
    },
    {
      "cell_type": "code",
      "execution_count": null,
      "metadata": {
        "id": "SHRBcaDpnjAS"
      },
      "outputs": [],
      "source": [
        "from math import *"
      ]
    },
    {
      "cell_type": "markdown",
      "source": [
        "Questo modo di ***importare tutte le funzioni*** della libreria ***math*** è assai pericoloso, si rischia di non capire da dove queste funzioni vengano.\n",
        "Sopratutto se ho già funzioni con lo stesso nome di quelle presenti nella libreria corro il rischio, a seconda che definisca prima la mia funzione o importi le funzione da libreria, di incorrere in un ***conflitto di nome***"
      ],
      "metadata": {
        "id": "PlZ39maQrSjp"
      }
    },
    {
      "cell_type": "code",
      "source": [
        "x = log (2.73)\n",
        "print(x)"
      ],
      "metadata": {
        "id": "ebq8Tl43r9WC",
        "outputId": "7ed7d577-e094-47e7-c60e-32e389f2401f",
        "colab": {
          "base_uri": "https://localhost:8080/"
        }
      },
      "execution_count": null,
      "outputs": [
        {
          "output_type": "stream",
          "name": "stdout",
          "text": [
            "1.0043016091968684\n"
          ]
        }
      ]
    },
    {
      "cell_type": "markdown",
      "source": [
        "definiamo una funzione fantoccio e chiamiamola ***log***"
      ],
      "metadata": {
        "id": "sQJ5AWao2ZXG"
      }
    },
    {
      "cell_type": "code",
      "source": [
        "def log(*args):\n",
        "  print(args)"
      ],
      "metadata": {
        "id": "3TdlqSOwsL_t"
      },
      "execution_count": null,
      "outputs": []
    },
    {
      "cell_type": "code",
      "source": [
        "log(2.73)"
      ],
      "metadata": {
        "id": "scwezv8csXDk",
        "outputId": "6e761f9e-1eb9-4b4e-d6d0-3a1dba89e8ab",
        "colab": {
          "base_uri": "https://localhost:8080/"
        }
      },
      "execution_count": null,
      "outputs": [
        {
          "output_type": "stream",
          "name": "stdout",
          "text": [
            "(2.73,)\n"
          ]
        }
      ]
    },
    {
      "cell_type": "markdown",
      "source": [
        " **Adesso la funzione log non è più la funzione logaritmo.**"
      ],
      "metadata": {
        "id": "UeXUxFWWscx6"
      }
    },
    {
      "cell_type": "code",
      "source": [
        "from math import log"
      ],
      "metadata": {
        "id": "bTbf31nNsnG-"
      },
      "execution_count": null,
      "outputs": []
    },
    {
      "cell_type": "code",
      "source": [
        "a = log(2.71)\n",
        "print(a)"
      ],
      "metadata": {
        "id": "HqRSTQTks_4s",
        "outputId": "924f9bf6-9387-4636-d429-265317c15b1d",
        "colab": {
          "base_uri": "https://localhost:8080/"
        }
      },
      "execution_count": null,
      "outputs": [
        {
          "output_type": "stream",
          "name": "stdout",
          "text": [
            "0.9969486348916096\n"
          ]
        }
      ]
    },
    {
      "cell_type": "markdown",
      "source": [
        "Questo metodo per importare la singola funzione è più pulito, mi permette di non dover importare l'intera gamma di funzioni presenti nella libreria math, ma d'altro canto ***in una eventuale revisione del codice avrei problemi ad identificare da dove la funzione log viene fuori***."
      ],
      "metadata": {
        "id": "D9VbJHzotF5g"
      }
    },
    {
      "cell_type": "code",
      "source": [
        "import math"
      ],
      "metadata": {
        "id": "pssf1m9itd3w"
      },
      "execution_count": null,
      "outputs": []
    },
    {
      "cell_type": "markdown",
      "source": [
        "A meno che non si tratti di librerie particolari come ***numpy*** o ***matplotlib***.pyplot è sempre meglio usare il nome originale della libreria per evitare misunderstandings."
      ],
      "metadata": {
        "id": "OVd_jAlythSP"
      }
    },
    {
      "cell_type": "code",
      "source": [
        "x = math.log(2.71)\n",
        "print(x)"
      ],
      "metadata": {
        "id": "OhdnvQD4tyfH",
        "outputId": "48f6d689-8639-41cd-8833-48c41e0e6aa9",
        "colab": {
          "base_uri": "https://localhost:8080/"
        }
      },
      "execution_count": null,
      "outputs": [
        {
          "output_type": "stream",
          "name": "stdout",
          "text": [
            "0.9969486348916096\n"
          ]
        }
      ]
    },
    {
      "cell_type": "markdown",
      "source": [
        "***Devo scrivere un po' di più ma facilito la revisione***"
      ],
      "metadata": {
        "id": "wUVAStmwt4zf"
      }
    },
    {
      "cell_type": "markdown",
      "source": [
        "# **Environmental variables**"
      ],
      "metadata": {
        "id": "BfGEspEOuAjQ"
      }
    },
    {
      "cell_type": "markdown",
      "source": [
        "Per ***environmental varibables*** si intende un tipo particolare di variabile ***presente nell'ambiente globale di un'interprete di comando*** e che è ***accessibile dai processi*** tramite meccanismi di gestione dipendenti.\n",
        "Ha la capacità di influenzare il modo in cui i processi vengono eseguiti sul computer. Sono parte dell'ambiente in cui il programma viene eseguito: \"***a running process can query the value of the TEMP environment variable to discover a suitable location to store temporary files, or the HOME or USERPROFILE variable to find the directory structure owned by the user running the process.***\""
      ],
      "metadata": {
        "id": "uRIFjDDXuQ2f"
      }
    },
    {
      "cell_type": "markdown",
      "source": [
        "**PYTHONPATH** è una variabile di ambiente che specifica una lista di directories per cercare i modulti python quando si stanno importando.\n",
        "\n",
        "---\n",
        "\n",
        "Quando importiamo un modulo Python non lo cerca su tutta la memoria, ma va a guardare nelle directories specificate in ***sys.path***: una lista di directories che include quella corrente di lavoro più quelle specificate su ***PYTHONPATH***\n",
        "\n",
        "---\n",
        "\n",
        "Possiamo quindi usarla per aggiungere altre directories dove poter andare a cercare il modulo o il pacchetto.\n"
      ],
      "metadata": {
        "id": "MpoKzjvF0zs5"
      }
    },
    {
      "cell_type": "markdown",
      "source": [
        "You can set PYTHONPATH in the terminal before running a Python script. Here's an example:\n",
        "1.    export PYTHONPATH=/path/to/my/modules/\n",
        "2.    python my_script.py\n",
        "\n",
        "\n"
      ],
      "metadata": {
        "id": "__Oxl4lb3MW4"
      }
    },
    {
      "cell_type": "markdown",
      "source": [
        "You can ***set or append*** PYTHONPATH in your Python script using the ***os module***. Here's an example:"
      ],
      "metadata": {
        "id": "qW7j6_QF3viW"
      }
    },
    {
      "cell_type": "code",
      "source": [
        "import os\n",
        "import sys\n",
        "sys.path.insert(0, os.path.abspath(\"/path/to/my/modules/\"))\n",
        "sys.path.append(os.path.abspath(\"/path/to/my/modules/\"))"
      ],
      "metadata": {
        "id": "dylOlcPaz7cB"
      },
      "execution_count": null,
      "outputs": []
    },
    {
      "cell_type": "markdown",
      "source": [
        "---\n",
        "piccolo escursus su come calcolare il tempo di processo, da rivedere per l'assegnamento"
      ],
      "metadata": {
        "id": "4esEHjtp5nNy"
      }
    },
    {
      "cell_type": "code",
      "source": [
        "import time\n",
        "start = time.process_time()\n",
        "# your code here\n",
        "import math\n",
        "x = math.log(float(input()))\n",
        "print(x)\n",
        "print(time.process_time() - start)"
      ],
      "metadata": {
        "id": "v4neuWOL4bZx"
      },
      "execution_count": null,
      "outputs": []
    },
    {
      "cell_type": "markdown",
      "source": [
        "---"
      ],
      "metadata": {
        "id": "6excYwjt5vzc"
      }
    },
    {
      "cell_type": "markdown",
      "source": [
        "# ***Logging facility for Python***\n",
        "\n",
        "This module defines functions and classes which implement a flexible event logging system for applications and libraries.\n",
        "\n",
        "The key benefit of having the logging API provided by a standard library module is that all Python modules can participate in logging, so your application log can include your own messages integrated with messages from third-party modules"
      ],
      "metadata": {
        "id": "qYsewATE5xCY"
      }
    },
    {
      "cell_type": "markdown",
      "source": [
        "# Stop Using **“Print”** and Start Using **“Logging”**\n",
        "\n",
        "---"
      ],
      "metadata": {
        "id": "fBAaARz597zg"
      }
    },
    {
      "cell_type": "markdown",
      "source": [
        "\n",
        "* *Debug (logging.debug())*: Providing information to diagnosing problems.\n",
        "\n",
        "* *Info (logging.info()):* Tracking the normal operation of a program.\n",
        "\n",
        "* *Warning (logging.warning()):* Although the code is still working as expected,  something unexpected happened.\n",
        "\n",
        "* *Error (logging.error()):* The code was unable to run some parts.\n",
        "\n",
        "\n",
        "* *Critical (logging.critical()):* The code cannot run.\n",
        "\n",
        "\n"
      ],
      "metadata": {
        "id": "auHDnQUc-2Sg"
      }
    },
    {
      "cell_type": "code",
      "source": [
        "import logging\n",
        "\n",
        "logging.warning(\"I'm a warning!\")\n",
        "logging.info(\"Hello, Python!\")\n",
        "logging.debug(\"I'm a debug message!\")"
      ],
      "metadata": {
        "id": "cBiOWp4E8G6p",
        "outputId": "71207fff-2006-461b-b055-195d95ec6ecb",
        "colab": {
          "base_uri": "https://localhost:8080/"
        }
      },
      "execution_count": 41,
      "outputs": [
        {
          "output_type": "stream",
          "name": "stderr",
          "text": [
            "WARNING:root:I'm a warning!\n"
          ]
        }
      ]
    },
    {
      "cell_type": "markdown",
      "source": [
        "Where are our other messages? Why was only the warning message printed?\n",
        "\n",
        "Well, it has to do with logging levels."
      ],
      "metadata": {
        "id": "Iy8OqFFeAjLg"
      }
    },
    {
      "cell_type": "code",
      "source": [
        "import logging\n",
        "\n",
        "logging.basicConfig(filename ='demo.log', levle = logging.DEBUG)\n",
        "\n",
        "if __name__ == \"__main__\":\n",
        "    logging.warning(\"I'm a warning\")\n",
        "    logging.info(\"CIAO STUDENTE MEDIO INCAPACE BASTARDO INFAMEEEE\")\n",
        "    logging.debug(\"I'm a debug message!\")"
      ],
      "metadata": {
        "id": "ZKD6DJDAAkoI"
      },
      "execution_count": 47,
      "outputs": []
    },
    {
      "cell_type": "markdown",
      "source": [
        "---"
      ],
      "metadata": {
        "id": "XecJkI9JC2Jx"
      }
    },
    {
      "cell_type": "code",
      "source": [
        "help(\"modules\")"
      ],
      "metadata": {
        "id": "MWHfE4v4C24X",
        "outputId": "ea04d69e-72e2-4557-88b6-7b07d6030b1a",
        "colab": {
          "base_uri": "https://localhost:8080/",
          "height": 1000
        }
      },
      "execution_count": 48,
      "outputs": [
        {
          "output_type": "stream",
          "name": "stdout",
          "text": [
            "\n",
            "Please wait a moment while I gather a list of all available modules...\n",
            "\n"
          ]
        },
        {
          "output_type": "stream",
          "name": "stderr",
          "text": [
            "/usr/local/lib/python3.10/dist-packages/IPython/kernel/__init__.py:12: ShimWarning: The `IPython.kernel` package has been deprecated since IPython 4.0.You should import from ipykernel or jupyter_client instead.\n",
            "  warn(\"The `IPython.kernel` package has been deprecated since IPython 4.0.\"\n",
            "/usr/local/lib/python3.10/dist-packages/altair/vega/v5/__init__.py:18: AltairDeprecationWarning: The module altair.vega.v5 is deprecated and will be removed in Altair 5.\n",
            "  warnings.warn(\n",
            "/usr/local/lib/python3.10/dist-packages/altair/vegalite/v3/__init__.py:29: AltairDeprecationWarning: The module altair.vegalite.v3 is deprecated and will be removed in Altair 5. Use `import altair as alt` instead of `import altair.vegalite.v3 as alt`.\n",
            "  warnings.warn(\n",
            "/usr/local/lib/python3.10/dist-packages/jupyter_client/ssh/tunnel.py:57: DeprecationWarning:\n",
            "\n",
            "zmq.utils.strtypes is deprecated in pyzmq 23.\n",
            "\n",
            "/usr/local/lib/python3.10/dist-packages/llvmlite/llvmpy/__init__.py:3: UserWarning:\n",
            "\n",
            "The module `llvmlite.llvmpy` is deprecated and will be removed in the future.\n",
            "\n"
          ]
        },
        {
          "output_type": "stream",
          "name": "stdout",
          "text": [
            "Downloading https://dlib.net/files/shape_predictor_68_face_landmarks.dat.bz2 to /root/mlxtend_data/shape_predictor_68_face_landmarks.dat.bz2\n"
          ]
        },
        {
          "output_type": "stream",
          "name": "stderr",
          "text": [
            "/usr/local/lib/python3.10/dist-packages/moviepy/video/fx/painting.py:7: DeprecationWarning:\n",
            "\n",
            "Please use `sobel` from the `scipy.ndimage` namespace, the `scipy.ndimage.filters` namespace is deprecated.\n",
            "\n",
            "/usr/lib/python3.10/pkgutil.py:92: UserWarning:\n",
            "\n",
            "The DICOM readers are highly experimental, unstable, and only work for Siemens time-series at the moment\n",
            "Please use with caution.  We would be grateful for your help in improving them\n",
            "\n",
            "/usr/local/lib/python3.10/dist-packages/nltk/twitter/__init__.py:20: UserWarning:\n",
            "\n",
            "The twython library has not been installed. Some functionality from the twitter package will not be available.\n",
            "\n",
            "/usr/local/lib/python3.10/dist-packages/notebook/utils.py:280: DeprecationWarning:\n",
            "\n",
            "distutils Version classes are deprecated. Use packaging.version instead.\n",
            "\n",
            "/usr/local/lib/python3.10/dist-packages/notebook/utils.py:280: DeprecationWarning:\n",
            "\n",
            "distutils Version classes are deprecated. Use packaging.version instead.\n",
            "\n",
            "/usr/local/lib/python3.10/dist-packages/numba/pycc/platform.py:6: DeprecationWarning:\n",
            "\n",
            "\n",
            "\n",
            "  `numpy.distutils` is deprecated since NumPy 1.23.0, as a result\n",
            "  of the deprecation of `distutils` itself. It will be removed for\n",
            "  Python >= 3.12. For older Python versions it will remain present.\n",
            "  It is recommended to use `setuptools < 60.0` for those Python versions.\n",
            "  For more details, see:\n",
            "    https://numpy.org/devdocs/reference/distutils_status_migration.html \n",
            "\n",
            "\n",
            "\n",
            "/usr/local/lib/python3.10/dist-packages/matplotlib_inline/config.py:68: DeprecationWarning:\n",
            "\n",
            "InlineBackend._figure_format_changed is deprecated in traitlets 4.1: use @observe and @unobserve instead.\n",
            "\n",
            "/usr/local/lib/python3.10/dist-packages/setuptools/_distutils/msvccompiler.py:66: DeprecationWarning:\n",
            "\n",
            "msvccompiler is deprecated and slated to be removed in the future. Please discontinue use or file an issue with pypa/distutils describing your use case.\n",
            "\n",
            "/usr/lib/python3.10/pkgutil.py:92: UserWarning:\n",
            "\n",
            "The numpy.array_api submodule is still experimental. See NEP 47.\n",
            "\n",
            "/usr/local/lib/python3.10/dist-packages/pandas_datareader/compat/__init__.py:11: DeprecationWarning:\n",
            "\n",
            "distutils Version classes are deprecated. Use packaging.version instead.\n",
            "\n",
            "/usr/local/lib/python3.10/dist-packages/pandas_datareader/compat/__init__.py:13: DeprecationWarning:\n",
            "\n",
            "distutils Version classes are deprecated. Use packaging.version instead.\n",
            "\n",
            "/usr/local/lib/python3.10/dist-packages/pandas_datareader/compat/__init__.py:14: DeprecationWarning:\n",
            "\n",
            "distutils Version classes are deprecated. Use packaging.version instead.\n",
            "\n",
            "/usr/local/lib/python3.10/dist-packages/pandas_datareader/compat/__init__.py:15: DeprecationWarning:\n",
            "\n",
            "distutils Version classes are deprecated. Use packaging.version instead.\n",
            "\n",
            "/usr/local/lib/python3.10/dist-packages/pip/_vendor/pkg_resources/__init__.py:121: DeprecationWarning:\n",
            "\n",
            "pkg_resources is deprecated as an API\n",
            "\n",
            "/usr/local/lib/python3.10/dist-packages/pip/_vendor/pkg_resources/__init__.py:2870: DeprecationWarning:\n",
            "\n",
            "Deprecated call to `pkg_resources.declare_namespace('google')`.\n",
            "Implementing implicit namespace packages (as specified in PEP 420) is preferred to `pkg_resources.declare_namespace`. See https://setuptools.pypa.io/en/latest/references/keywords.html#keyword-namespace-packages\n",
            "\n",
            "/usr/local/lib/python3.10/dist-packages/pip/_vendor/pkg_resources/__init__.py:2870: DeprecationWarning:\n",
            "\n",
            "Deprecated call to `pkg_resources.declare_namespace('google')`.\n",
            "Implementing implicit namespace packages (as specified in PEP 420) is preferred to `pkg_resources.declare_namespace`. See https://setuptools.pypa.io/en/latest/references/keywords.html#keyword-namespace-packages\n",
            "\n",
            "/usr/local/lib/python3.10/dist-packages/pip/_vendor/pkg_resources/__init__.py:2870: DeprecationWarning:\n",
            "\n",
            "Deprecated call to `pkg_resources.declare_namespace('google')`.\n",
            "Implementing implicit namespace packages (as specified in PEP 420) is preferred to `pkg_resources.declare_namespace`. See https://setuptools.pypa.io/en/latest/references/keywords.html#keyword-namespace-packages\n",
            "\n",
            "/usr/local/lib/python3.10/dist-packages/pip/_vendor/pkg_resources/__init__.py:2870: DeprecationWarning:\n",
            "\n",
            "Deprecated call to `pkg_resources.declare_namespace('google.cloud')`.\n",
            "Implementing implicit namespace packages (as specified in PEP 420) is preferred to `pkg_resources.declare_namespace`. See https://setuptools.pypa.io/en/latest/references/keywords.html#keyword-namespace-packages\n",
            "\n",
            "/usr/local/lib/python3.10/dist-packages/pip/_vendor/pkg_resources/__init__.py:2349: DeprecationWarning:\n",
            "\n",
            "Deprecated call to `pkg_resources.declare_namespace('google')`.\n",
            "Implementing implicit namespace packages (as specified in PEP 420) is preferred to `pkg_resources.declare_namespace`. See https://setuptools.pypa.io/en/latest/references/keywords.html#keyword-namespace-packages\n",
            "\n",
            "/usr/local/lib/python3.10/dist-packages/pip/_vendor/pkg_resources/__init__.py:2870: DeprecationWarning:\n",
            "\n",
            "Deprecated call to `pkg_resources.declare_namespace('google')`.\n",
            "Implementing implicit namespace packages (as specified in PEP 420) is preferred to `pkg_resources.declare_namespace`. See https://setuptools.pypa.io/en/latest/references/keywords.html#keyword-namespace-packages\n",
            "\n",
            "/usr/local/lib/python3.10/dist-packages/pip/_vendor/pkg_resources/__init__.py:2870: DeprecationWarning:\n",
            "\n",
            "Deprecated call to `pkg_resources.declare_namespace('google.cloud')`.\n",
            "Implementing implicit namespace packages (as specified in PEP 420) is preferred to `pkg_resources.declare_namespace`. See https://setuptools.pypa.io/en/latest/references/keywords.html#keyword-namespace-packages\n",
            "\n",
            "/usr/local/lib/python3.10/dist-packages/pip/_vendor/pkg_resources/__init__.py:2870: DeprecationWarning:\n",
            "\n",
            "Deprecated call to `pkg_resources.declare_namespace('google')`.\n",
            "Implementing implicit namespace packages (as specified in PEP 420) is preferred to `pkg_resources.declare_namespace`. See https://setuptools.pypa.io/en/latest/references/keywords.html#keyword-namespace-packages\n",
            "\n",
            "/usr/local/lib/python3.10/dist-packages/pip/_vendor/pkg_resources/__init__.py:2870: DeprecationWarning:\n",
            "\n",
            "Deprecated call to `pkg_resources.declare_namespace('google.cloud')`.\n",
            "Implementing implicit namespace packages (as specified in PEP 420) is preferred to `pkg_resources.declare_namespace`. See https://setuptools.pypa.io/en/latest/references/keywords.html#keyword-namespace-packages\n",
            "\n",
            "/usr/local/lib/python3.10/dist-packages/pip/_vendor/pkg_resources/__init__.py:2870: DeprecationWarning:\n",
            "\n",
            "Deprecated call to `pkg_resources.declare_namespace('google')`.\n",
            "Implementing implicit namespace packages (as specified in PEP 420) is preferred to `pkg_resources.declare_namespace`. See https://setuptools.pypa.io/en/latest/references/keywords.html#keyword-namespace-packages\n",
            "\n",
            "/usr/local/lib/python3.10/dist-packages/pip/_vendor/pkg_resources/__init__.py:2870: DeprecationWarning:\n",
            "\n",
            "Deprecated call to `pkg_resources.declare_namespace('google.cloud')`.\n",
            "Implementing implicit namespace packages (as specified in PEP 420) is preferred to `pkg_resources.declare_namespace`. See https://setuptools.pypa.io/en/latest/references/keywords.html#keyword-namespace-packages\n",
            "\n",
            "/usr/local/lib/python3.10/dist-packages/pip/_vendor/pkg_resources/__init__.py:2870: DeprecationWarning:\n",
            "\n",
            "Deprecated call to `pkg_resources.declare_namespace('google')`.\n",
            "Implementing implicit namespace packages (as specified in PEP 420) is preferred to `pkg_resources.declare_namespace`. See https://setuptools.pypa.io/en/latest/references/keywords.html#keyword-namespace-packages\n",
            "\n",
            "/usr/local/lib/python3.10/dist-packages/pip/_vendor/pkg_resources/__init__.py:2870: DeprecationWarning:\n",
            "\n",
            "Deprecated call to `pkg_resources.declare_namespace('google.cloud')`.\n",
            "Implementing implicit namespace packages (as specified in PEP 420) is preferred to `pkg_resources.declare_namespace`. See https://setuptools.pypa.io/en/latest/references/keywords.html#keyword-namespace-packages\n",
            "\n",
            "/usr/local/lib/python3.10/dist-packages/pip/_vendor/pkg_resources/__init__.py:2870: DeprecationWarning:\n",
            "\n",
            "Deprecated call to `pkg_resources.declare_namespace('google')`.\n",
            "Implementing implicit namespace packages (as specified in PEP 420) is preferred to `pkg_resources.declare_namespace`. See https://setuptools.pypa.io/en/latest/references/keywords.html#keyword-namespace-packages\n",
            "\n",
            "/usr/local/lib/python3.10/dist-packages/pip/_vendor/pkg_resources/__init__.py:2870: DeprecationWarning:\n",
            "\n",
            "Deprecated call to `pkg_resources.declare_namespace('google.cloud')`.\n",
            "Implementing implicit namespace packages (as specified in PEP 420) is preferred to `pkg_resources.declare_namespace`. See https://setuptools.pypa.io/en/latest/references/keywords.html#keyword-namespace-packages\n",
            "\n",
            "/usr/local/lib/python3.10/dist-packages/pip/_vendor/pkg_resources/__init__.py:2870: DeprecationWarning:\n",
            "\n",
            "Deprecated call to `pkg_resources.declare_namespace('google')`.\n",
            "Implementing implicit namespace packages (as specified in PEP 420) is preferred to `pkg_resources.declare_namespace`. See https://setuptools.pypa.io/en/latest/references/keywords.html#keyword-namespace-packages\n",
            "\n",
            "/usr/local/lib/python3.10/dist-packages/pip/_vendor/pkg_resources/__init__.py:2870: DeprecationWarning:\n",
            "\n",
            "Deprecated call to `pkg_resources.declare_namespace('google.cloud')`.\n",
            "Implementing implicit namespace packages (as specified in PEP 420) is preferred to `pkg_resources.declare_namespace`. See https://setuptools.pypa.io/en/latest/references/keywords.html#keyword-namespace-packages\n",
            "\n",
            "/usr/local/lib/python3.10/dist-packages/pip/_vendor/pkg_resources/__init__.py:2870: DeprecationWarning:\n",
            "\n",
            "Deprecated call to `pkg_resources.declare_namespace('google')`.\n",
            "Implementing implicit namespace packages (as specified in PEP 420) is preferred to `pkg_resources.declare_namespace`. See https://setuptools.pypa.io/en/latest/references/keywords.html#keyword-namespace-packages\n",
            "\n",
            "/usr/local/lib/python3.10/dist-packages/pip/_vendor/pkg_resources/__init__.py:2870: DeprecationWarning:\n",
            "\n",
            "Deprecated call to `pkg_resources.declare_namespace('google.cloud')`.\n",
            "Implementing implicit namespace packages (as specified in PEP 420) is preferred to `pkg_resources.declare_namespace`. See https://setuptools.pypa.io/en/latest/references/keywords.html#keyword-namespace-packages\n",
            "\n",
            "/usr/local/lib/python3.10/dist-packages/pip/_vendor/pkg_resources/__init__.py:2870: DeprecationWarning:\n",
            "\n",
            "Deprecated call to `pkg_resources.declare_namespace('google')`.\n",
            "Implementing implicit namespace packages (as specified in PEP 420) is preferred to `pkg_resources.declare_namespace`. See https://setuptools.pypa.io/en/latest/references/keywords.html#keyword-namespace-packages\n",
            "\n",
            "/usr/local/lib/python3.10/dist-packages/pip/_vendor/pkg_resources/__init__.py:2870: DeprecationWarning:\n",
            "\n",
            "Deprecated call to `pkg_resources.declare_namespace('google.cloud')`.\n",
            "Implementing implicit namespace packages (as specified in PEP 420) is preferred to `pkg_resources.declare_namespace`. See https://setuptools.pypa.io/en/latest/references/keywords.html#keyword-namespace-packages\n",
            "\n",
            "/usr/local/lib/python3.10/dist-packages/pip/_vendor/pkg_resources/__init__.py:2870: DeprecationWarning:\n",
            "\n",
            "Deprecated call to `pkg_resources.declare_namespace('google')`.\n",
            "Implementing implicit namespace packages (as specified in PEP 420) is preferred to `pkg_resources.declare_namespace`. See https://setuptools.pypa.io/en/latest/references/keywords.html#keyword-namespace-packages\n",
            "\n",
            "/usr/local/lib/python3.10/dist-packages/pip/_vendor/pkg_resources/__init__.py:2870: DeprecationWarning:\n",
            "\n",
            "Deprecated call to `pkg_resources.declare_namespace('google.cloud')`.\n",
            "Implementing implicit namespace packages (as specified in PEP 420) is preferred to `pkg_resources.declare_namespace`. See https://setuptools.pypa.io/en/latest/references/keywords.html#keyword-namespace-packages\n",
            "\n",
            "/usr/local/lib/python3.10/dist-packages/pip/_vendor/pkg_resources/__init__.py:2870: DeprecationWarning:\n",
            "\n",
            "Deprecated call to `pkg_resources.declare_namespace('google')`.\n",
            "Implementing implicit namespace packages (as specified in PEP 420) is preferred to `pkg_resources.declare_namespace`. See https://setuptools.pypa.io/en/latest/references/keywords.html#keyword-namespace-packages\n",
            "\n",
            "/usr/local/lib/python3.10/dist-packages/pip/_vendor/pkg_resources/__init__.py:2870: DeprecationWarning:\n",
            "\n",
            "Deprecated call to `pkg_resources.declare_namespace('google')`.\n",
            "Implementing implicit namespace packages (as specified in PEP 420) is preferred to `pkg_resources.declare_namespace`. See https://setuptools.pypa.io/en/latest/references/keywords.html#keyword-namespace-packages\n",
            "\n",
            "/usr/local/lib/python3.10/dist-packages/pip/_vendor/pkg_resources/__init__.py:2870: DeprecationWarning:\n",
            "\n",
            "Deprecated call to `pkg_resources.declare_namespace('google.logging')`.\n",
            "Implementing implicit namespace packages (as specified in PEP 420) is preferred to `pkg_resources.declare_namespace`. See https://setuptools.pypa.io/en/latest/references/keywords.html#keyword-namespace-packages\n",
            "\n",
            "/usr/local/lib/python3.10/dist-packages/pip/_vendor/pkg_resources/__init__.py:2349: DeprecationWarning:\n",
            "\n",
            "Deprecated call to `pkg_resources.declare_namespace('google')`.\n",
            "Implementing implicit namespace packages (as specified in PEP 420) is preferred to `pkg_resources.declare_namespace`. See https://setuptools.pypa.io/en/latest/references/keywords.html#keyword-namespace-packages\n",
            "\n",
            "/usr/local/lib/python3.10/dist-packages/pip/_vendor/pkg_resources/__init__.py:2870: DeprecationWarning:\n",
            "\n",
            "Deprecated call to `pkg_resources.declare_namespace('google')`.\n",
            "Implementing implicit namespace packages (as specified in PEP 420) is preferred to `pkg_resources.declare_namespace`. See https://setuptools.pypa.io/en/latest/references/keywords.html#keyword-namespace-packages\n",
            "\n",
            "/usr/local/lib/python3.10/dist-packages/pip/_vendor/pkg_resources/__init__.py:2870: DeprecationWarning:\n",
            "\n",
            "Deprecated call to `pkg_resources.declare_namespace('google.iam')`.\n",
            "Implementing implicit namespace packages (as specified in PEP 420) is preferred to `pkg_resources.declare_namespace`. See https://setuptools.pypa.io/en/latest/references/keywords.html#keyword-namespace-packages\n",
            "\n",
            "/usr/local/lib/python3.10/dist-packages/pip/_vendor/pkg_resources/__init__.py:2349: DeprecationWarning:\n",
            "\n",
            "Deprecated call to `pkg_resources.declare_namespace('google')`.\n",
            "Implementing implicit namespace packages (as specified in PEP 420) is preferred to `pkg_resources.declare_namespace`. See https://setuptools.pypa.io/en/latest/references/keywords.html#keyword-namespace-packages\n",
            "\n",
            "/usr/local/lib/python3.10/dist-packages/pip/_vendor/pkg_resources/__init__.py:2870: DeprecationWarning:\n",
            "\n",
            "Deprecated call to `pkg_resources.declare_namespace('mpl_toolkits')`.\n",
            "Implementing implicit namespace packages (as specified in PEP 420) is preferred to `pkg_resources.declare_namespace`. See https://setuptools.pypa.io/en/latest/references/keywords.html#keyword-namespace-packages\n",
            "\n",
            "/usr/local/lib/python3.10/dist-packages/pip/_vendor/pkg_resources/__init__.py:2870: DeprecationWarning:\n",
            "\n",
            "Deprecated call to `pkg_resources.declare_namespace('google')`.\n",
            "Implementing implicit namespace packages (as specified in PEP 420) is preferred to `pkg_resources.declare_namespace`. See https://setuptools.pypa.io/en/latest/references/keywords.html#keyword-namespace-packages\n",
            "\n",
            "/usr/local/lib/python3.10/dist-packages/pip/_vendor/pkg_resources/__init__.py:2870: DeprecationWarning:\n",
            "\n",
            "Deprecated call to `pkg_resources.declare_namespace('sphinxcontrib')`.\n",
            "Implementing implicit namespace packages (as specified in PEP 420) is preferred to `pkg_resources.declare_namespace`. See https://setuptools.pypa.io/en/latest/references/keywords.html#keyword-namespace-packages\n",
            "\n",
            "/usr/lib/python3.10/pkgutil.py:92: UserWarning: viewer requires Qt\n",
            "/usr/local/lib/python3.10/dist-packages/setuptools/command/build_ext.py:8: DeprecationWarning: The distutils package is deprecated and slated for removal in Python 3.12. Use setuptools or check PEP 632 for potential alternatives\n",
            "/usr/lib/python3.10/distutils/command/build_ext.py:13: DeprecationWarning: The distutils.sysconfig module is deprecated, use sysconfig instead\n",
            "/usr/local/lib/python3.10/dist-packages/tensorboard/_vendor/html5lib/filters/sanitizer.py:29: DeprecationWarning: html5lib's sanitizer is deprecated; see https://github.com/html5lib/html5lib-python/issues/443 and please let us know if Bleach is unsuitable for your needs\n",
            "/usr/local/lib/python3.10/dist-packages/torch/distributed/_shard/checkpoint/__init__.py:8: DeprecationWarning: torch.distributed._shard.checkpoint will be deprecated, use torch.distributed.checkpoint instead\n",
            "/usr/local/lib/python3.10/dist-packages/torch/distributed/_sharded_tensor/__init__.py:8: DeprecationWarning: torch.distributed._sharded_tensor will be deprecated, use torch.distributed._shard.sharded_tensor instead\n",
            "/usr/local/lib/python3.10/dist-packages/torch/distributed/_sharding_spec/__init__.py:8: DeprecationWarning: torch.distributed._sharding_spec will be deprecated, use torch.distributed._shard.sharding_spec instead\n",
            "No CUDA runtime is found, using CUDA_HOME='/usr/local/cuda'\n",
            "/usr/local/lib/python3.10/dist-packages/torchvision/datapoints/__init__.py:12: UserWarning: The torchvision.datapoints and torchvision.transforms.v2 namespaces are still Beta. While we do not expect major breaking changes, some APIs may still change according to user feedback. Please submit any feedback you may have in this issue: https://github.com/pytorch/vision/issues/6753, and you can also check out https://github.com/pytorch/vision/issues/7319 to learn more about the APIs that we suspect might involve future changes. You can silence this warning by calling torchvision.disable_beta_transforms_warning().\n",
            "/usr/local/lib/python3.10/dist-packages/torchvision/transforms/v2/__init__.py:54: UserWarning: The torchvision.datapoints and torchvision.transforms.v2 namespaces are still Beta. While we do not expect major breaking changes, some APIs may still change according to user feedback. Please submit any feedback you may have in this issue: https://github.com/pytorch/vision/issues/6753, and you can also check out https://github.com/pytorch/vision/issues/7319 to learn more about the APIs that we suspect might involve future changes. You can silence this warning by calling torchvision.disable_beta_transforms_warning().\n",
            "/usr/lib/python3.10/pkgutil.py:107: VisibleDeprecationWarning: zmq.eventloop.minitornado is deprecated in pyzmq 14.0 and will be removed.\n",
            "    Install tornado itself to use zmq with the tornado IOLoop.\n",
            "    \n"
          ]
        },
        {
          "output_type": "stream",
          "name": "stdout",
          "text": [
            "Cython              collections         kaggle              requests_oauthlib\n",
            "IPython             colorcet            kanren              requirements\n",
            "OpenGL              colorlover          keras               resource\n",
            "OpenSSL             colorsys            keyring             rich\n",
            "PIL                 colour              keyword             rlcompleter\n",
            "__future__          community           kiwisolver          rmagic\n",
            "_abc                compileall          langcodes           rpds\n",
            "_aix_support        concurrent          launchpadlib        rpy2\n",
            "_argon2_cffi_bindings confection          lazy_loader         rsa\n",
            "_ast                configparser        lib2to3             runpy\n",
            "_asyncio            cons                libfuturize         sched\n",
            "_bisect             contextlib          libpasteurize       scipy\n",
            "_blake2             contextlib2         librosa             scooby\n",
            "_bootsubprocess     contextvars         lightgbm            scs\n",
            "_bz2                contourpy           linecache           seaborn\n",
            "_cffi_backend       convertdate         linkify_it          secrets\n",
            "_codecs             copy                lit                 secretstorage\n",
            "_codecs_cn          copyreg             llvmlite            select\n",
            "_codecs_hk          cpuinfo             locale              selectors\n",
            "_codecs_iso2022     crypt               locket              send2trash\n",
            "_codecs_jp          cryptography        logging             setuptools\n",
            "_codecs_kr          csv                 lsb_release         shapefile\n",
            "_codecs_tw          ctypes              lunarcalendar       shapely\n",
            "_collections        cufflinks           lxml                shelve\n",
            "_collections_abc    curses              lzma                shlex\n",
            "_compat_pickle      cv2                 mailbox             shutil\n",
            "_compression        cvxopt              mailcap             signal\n",
            "_contextvars        cvxpy               markdown            site\n",
            "_crypt              cycler              markdown_it         sitecustomize\n",
            "_csv                cymem               markupsafe          six\n",
            "_ctypes             cython              marshal             skimage\n",
            "_ctypes_test        cythonmagic         math                sklearn\n",
            "_curses             dask                matplotlib          sklearn_pandas\n",
            "_curses_panel       dataclasses         matplotlib_inline   slugify\n",
            "_cvxcore            datascience         matplotlib_venn     smart_open\n",
            "_datetime           datetime            mdit_py_plugins     smtpd\n",
            "_dbm                dateutil            mdurl               smtplib\n",
            "_dbus_bindings      db_dtypes           mimetypes           sndhdr\n",
            "_dbus_glib_bindings dbm                 missingno           sniffio\n",
            "_decimal            dbus                mistune             snowballstemmer\n",
            "_distutils_hack     debugpy             mizani              socket\n",
            "_distutils_system_mod decimal             ml_dtypes           socketserver\n",
            "_dlib_pybind11      decorator           mlxtend             socks\n",
            "_ecos               defusedxml          mmap                sockshandler\n",
            "_elementtree        difflib             modulefinder        softwareproperties\n",
            "_functools          dis                 more_itertools      sortedcontainers\n",
            "_hashlib            distributed         moviepy             soundfile\n",
            "_heapq              distro              mpmath              soupsieve\n",
            "_imp                distutils           msgpack             soxr\n",
            "_io                 dlib                multidict           spacy\n",
            "_json               doctest             multipledispatch    spacy_legacy\n",
            "_locale             docutils            multiprocessing     spacy_loggers\n",
            "_lsprof             dopamine            multitasking        sphinx\n",
            "_lzma               dot_parser          murmurhash          spwd\n",
            "_markupbase         duckdb              music21             sql\n",
            "_md5                easydict            natsort             sqlalchemy\n",
            "_multibytecodec     ecos                nbclassic           sqlite3\n",
            "_multiprocessing    editdistance        nbclient            sqlparse\n",
            "_opcode             ee                  nbconvert           sre_compile\n",
            "_operator           eerepr              nbformat            sre_constants\n",
            "_osx_support        email               nest_asyncio        sre_parse\n",
            "_pickle             en_core_web_sm      netrc               srsly\n",
            "_plotly_future_     encodings           networkx            ssl\n",
            "_plotly_utils       entrypoints         nibabel             stat\n",
            "_posixshmem         enum                nis                 statistics\n",
            "_posixsubprocess    ephem               nisext              statsmodels\n",
            "_py_abc             erfa                nltk                storemagic\n",
            "_pydecimal          errno               nntplib             string\n",
            "_pyio               et_xmlfile          notebook            stringprep\n",
            "_pytest             etils               notebook_shim       struct\n",
            "_queue              etuples             ntpath              subprocess\n",
            "_random             exceptiongroup      nturl2path          sunau\n",
            "_rinterface_cffi_abi fastai              numba               sympy\n",
            "_rinterface_cffi_api fastcore            numbergen           sympyprinting\n",
            "_scs_direct         fastdownload        numbers             symtable\n",
            "_scs_indirect       fastjsonschema      numexpr             sys\n",
            "_sha1               fastprogress        numpy               sysconfig\n",
            "_sha256             fastrlock           nvfuser             syslog\n",
            "_sha3               faulthandler        oauth2client        tables\n",
            "_sha512             fcntl               oauthlib            tabnanny\n",
            "_signal             filecmp             opcode              tabulate\n",
            "_sitebuiltins       fileinput           openpyxl            tarfile\n",
            "_socket             filelock            operator            tblib\n",
            "_soundfile          fiona               opt_einsum          telnetlib\n",
            "_soundfile_data     firebase_admin      optax               tempfile\n",
            "_sqlite3            flask               optparse            tenacity\n",
            "_sre                flatbuffers         os                  tensorboard\n",
            "_ssl                flax                osgeo               tensorboard_data_server\n",
            "_stat               fnmatch             osgeo_utils         tensorflow\n",
            "_statistics         folium              osqp                tensorflow_datasets\n",
            "_string             fontTools           osqppurepy          tensorflow_estimator\n",
            "_strptime           fractions           ossaudiodev         tensorflow_gcs_config\n",
            "_struct             frozendict          packaging           tensorflow_hub\n",
            "_symtable           frozenlist          pandas              tensorflow_io_gcs_filesystem\n",
            "_sysconfigdata__linux_x86_64-linux-gnu fsspec              pandas_datareader   tensorflow_metadata\n",
            "_sysconfigdata__x86_64-linux-gnu ftplib              pandas_gbq          tensorflow_probability\n",
            "_testbuffer         functools           pandocfilters       tensorstore\n",
            "_testcapi           functorch           panel               termcolor\n",
            "_testclinic         future              param               terminado\n",
            "_testimportmultiple gast                parso               termios\n",
            "_testinternalcapi   gc                  partd               test\n",
            "_testmultiphase     gcsfs               past                tests\n",
            "_thread             gdown               pasta               text_unidecode\n",
            "_threading_local    geemap              pathlib             textblob\n",
            "_tkinter            genericpath         pathy               textwrap\n",
            "_tracemalloc        gensim              patsy               tf_slim\n",
            "_uuid               geocoder            pdb                 thinc\n",
            "_warnings           geographiclib       pexpect             this\n",
            "_weakref            geopandas           pickle              threading\n",
            "_weakrefset         geopy               pickleshare         threadpoolctl\n",
            "_xxsubinterpreters  getopt              pickletools         tifffile\n",
            "_xxtestfuzz         getpass             pip                 time\n",
            "_yaml               gettext             pipes               timeit\n",
            "_zoneinfo           gi                  piptools            tinycss2\n",
            "abc                 gin                 pkg_resources       tkinter\n",
            "absl                glob                pkgutil             tlz\n",
            "aifc                glob2               platform            token\n",
            "aiohttp             google_auth_httplib2 platformdirs        tokenize\n",
            "aiosignal           google_auth_oauthlib plistlib            toml\n",
            "alabaster           google_crc32c       plotly              tomli\n",
            "albumentations      google_drive_downloader plotnine            toolz\n",
            "altair              googleapiclient     pluggy              torch\n",
            "antigravity         googlesearch        polars              torchaudio\n",
            "anyio               graphlib            pooch               torchdata\n",
            "apiclient           graphviz            poplib              torchgen\n",
            "appdirs             greenlet            portpicker          torchsummary\n",
            "apt                 grp                 posix               torchtext\n",
            "apt_inst            grpc                posixpath           torchvision\n",
            "apt_pkg             grpc_status         pprint              tornado\n",
            "aptsources          gspread             prefetch_generator  tqdm\n",
            "argon2              gspread_dataframe   preshed             trace\n",
            "argparse            gym                 prettytable         traceback\n",
            "array               gym_notices         profile             tracemalloc\n",
            "array_record        gzip                proglog             traitlets\n",
            "arviz               h5netcdf            progressbar         traittypes\n",
            "ast                 h5py                prometheus_client   tree\n",
            "astropy             hashlib             promise             triton\n",
            "astunparse          heapq               prompt_toolkit      tty\n",
            "async_timeout       hmac                prophet             turtle\n",
            "asynchat            holidays            proto               tweepy\n",
            "asyncio             holoviews           pstats              typer\n",
            "asyncore            html                psutil              types\n",
            "atexit              html5lib            psycopg2            typing\n",
            "attr                http                pty                 typing_extensions\n",
            "attrs               httpimport          ptyprocess          tzlocal\n",
            "audioop             httplib2            pwd                 uc_micro\n",
            "audioread           humanize            py                  unicodedata\n",
            "autograd            hyperopt            py4j                unification\n",
            "autoreload          idna                py_compile          unittest\n",
            "babel               imageio             pyarrow             uritemplate\n",
            "backcall            imageio_ffmpeg      pyasn1              urllib\n",
            "base64              imagesize           pyasn1_modules      urllib3\n",
            "bdb                 imaplib             pyclbr              uu\n",
            "bin                 imblearn            pycocotools         uuid\n",
            "binascii            imgaug              pycparser           vega_datasets\n",
            "binhex              imghdr              pyct                venv\n",
            "bisect              imp                 pydantic            wadllib\n",
            "bleach              importlib           pydata_google_auth  warnings\n",
            "blinker             importlib_metadata  pydoc               wasabi\n",
            "blis                importlib_resources pydoc_data          wave\n",
            "blosc2              imutils             pydot               wcwidth\n",
            "bokeh               inflect             pydot_ng            weakref\n",
            "boost               iniconfig           pydotplus           webbrowser\n",
            "box                 inspect             pydrive             webcolors\n",
            "bqplot              io                  pydrive2            webencodings\n",
            "branca              ipaddress           pyexpat             websocket\n",
            "bs4                 ipyevents           pygame              werkzeug\n",
            "build               ipyfilechooser      pygments            wheel\n",
            "builtins            ipykernel           pygtkcompat         widgetsnbextension\n",
            "bz2                 ipykernel_launcher  pylab               wordcloud\n",
            "cProfile            ipyleaflet          pymc                wrapt\n",
            "cachecontrol        ipython_genutils    pymeeus             wsgiref\n",
            "cachetools          ipytree             pymystem3           xarray\n",
            "calendar            ipywidgets          pyparsing           xarray_einstats\n",
            "catalogue           isympy              pyperclip           xdrlib\n",
            "certifi             itertools           pyproj              xgboost\n",
            "cffi                itsdangerous        pyproject_hooks     xlrd\n",
            "cgi                 jax                 pytensor            xml\n",
            "cgitb               jaxlib              pytest              xmlrpc\n",
            "chardet             jeepney             python_utils        xxlimited\n",
            "charset_normalizer  jieba               pytz                xxlimited_35\n",
            "chex                jinja2              pyviz_comms         xxsubtype\n",
            "chunk               joblib              pywt                xyzservices\n",
            "clang               json                pyximport           yaml\n",
            "click               jsonpickle          qdldl               yarl\n",
            "click_plugins       jsonschema          qudida              yellowbrick\n",
            "cligj               jsonschema_specifications queue               yfinance\n",
            "cloudpickle         jupyter             quopri              zict\n",
            "cmake               jupyter_client      random              zipapp\n",
            "cmath               jupyter_console     ratelim             zipfile\n",
            "cmd                 jupyter_core        re                  zipimport\n",
            "cmdstanpy           jupyter_server      readline            zipp\n",
            "code                jupyterlab_plotly   referencing         zlib\n",
            "codecs              jupyterlab_pygments regex               zmq\n",
            "codeop              jupyterlab_widgets  reprlib             zoneinfo\n",
            "colab_kernel_launcher jwt                 requests            \n",
            "\n",
            "Enter any module name to get more help.  Or, type \"modules spam\" to search\n",
            "for modules whose name or summary contain the string \"spam\".\n",
            "\n"
          ]
        }
      ]
    }
  ]
}